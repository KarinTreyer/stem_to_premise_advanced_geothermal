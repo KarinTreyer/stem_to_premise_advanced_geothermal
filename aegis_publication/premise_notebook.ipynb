{
 "cells": [
  {
   "cell_type": "code",
   "execution_count": 2,
   "metadata": {},
   "outputs": [],
   "source": [
    "import bw2io as bi\n",
    "import bw2data as bd\n",
    "import bw2calc as bc\n",
    "\n",
    "from premise import *\n",
    "from datapackage import Package"
   ]
  },
  {
   "cell_type": "code",
   "execution_count": 3,
   "metadata": {},
   "outputs": [],
   "source": [
    "bd.projects.set_current(\"aegis_publication\")"
   ]
  },
  {
   "cell_type": "code",
   "execution_count": 4,
   "metadata": {},
   "outputs": [
    {
     "name": "stderr",
     "output_type": "stream",
     "text": [
      "Writing activities to SQLite3 database:\n"
     ]
    },
    {
     "name": "stdout",
     "output_type": "stream",
     "text": [
      "Applying strategy: normalize_units\n",
      "Applying strategy: drop_unspecified_subcategories\n",
      "Applying strategy: ensure_categories_are_tuples\n",
      "Applied 3 strategies in 0.00 seconds\n",
      "4362 datasets\n",
      "0 exchanges\n",
      "0 unlinked exchanges\n",
      "  \n"
     ]
    },
    {
     "name": "stderr",
     "output_type": "stream",
     "text": [
      "0% [##############################] 100% | ETA: 00:00:00\n",
      "Total time elapsed: 00:00:00\n"
     ]
    },
    {
     "name": "stdout",
     "output_type": "stream",
     "text": [
      "Title: Writing activities to SQLite3 database:\n",
      "  Started: 02/13/2025 21:51:56\n",
      "  Finished: 02/13/2025 21:51:57\n",
      "  Total time elapsed: 00:00:00\n",
      "  CPU %: 94.50\n",
      "  Memory %: 0.96\n",
      "Created database: ecoinvent-3.10.1-biosphere\n"
     ]
    },
    {
     "name": "stderr",
     "output_type": "stream",
     "text": [
      "Extracting ecospold2 files:\n",
      "0% [##############################] 100% | ETA: 00:00:00 | Item ID: ffff6878-41e3-5\n",
      "Total time elapsed: 00:02:52\n"
     ]
    },
    {
     "name": "stdout",
     "output_type": "stream",
     "text": [
      "Title: Extracting ecospold2 files:\n",
      "  Started: 02/13/2025 21:52:10\n",
      "  Finished: 02/13/2025 21:55:03\n",
      "  Total time elapsed: 00:02:52\n",
      "  CPU %: 92.60\n",
      "  Memory %: 10.44\n",
      "Extracted 23523 datasets in 176.42 seconds\n",
      "Applying strategy: normalize_units\n",
      "Applying strategy: update_ecoinvent_locations\n",
      "Applying strategy: remove_zero_amount_coproducts\n",
      "Applying strategy: remove_zero_amount_inputs_with_no_activity\n",
      "Applying strategy: remove_unnamed_parameters\n",
      "Applying strategy: es2_assign_only_product_with_amount_as_reference_product\n",
      "Applying strategy: assign_single_product_as_activity\n",
      "Applying strategy: create_composite_code\n",
      "Applying strategy: drop_unspecified_subcategories\n",
      "Applying strategy: fix_ecoinvent_flows_pre35\n",
      "Applying strategy: drop_temporary_outdated_biosphere_flows\n",
      "Applying strategy: link_biosphere_by_flow_uuid\n",
      "Applying strategy: link_internal_technosphere_by_composite_code\n",
      "Applying strategy: delete_exchanges_missing_activity\n",
      "Applying strategy: delete_ghost_exchanges\n",
      "Applying strategy: remove_uncertainty_from_negative_loss_exchanges\n",
      "Applying strategy: fix_unreasonably_high_lognormal_uncertainties\n",
      "Applying strategy: convert_activity_parameters_to_list\n",
      "Applying strategy: add_cpc_classification_from_single_reference_product\n",
      "Applying strategy: delete_none_synonyms\n",
      "Applying strategy: update_social_flows_in_older_consequential\n",
      "Applying strategy: set_lognormal_loc_value\n",
      "Applied 22 strategies in 6.38 seconds\n"
     ]
    },
    {
     "name": "stderr",
     "output_type": "stream",
     "text": [
      "Writing activities to SQLite3 database:\n"
     ]
    },
    {
     "name": "stdout",
     "output_type": "stream",
     "text": [
      "23523 datasets\n",
      "743409 exchanges\n",
      "0 unlinked exchanges\n",
      "  \n"
     ]
    },
    {
     "name": "stderr",
     "output_type": "stream",
     "text": [
      "0% [##############################] 100% | ETA: 00:00:00\n",
      "Total time elapsed: 00:00:44\n"
     ]
    },
    {
     "name": "stdout",
     "output_type": "stream",
     "text": [
      "Title: Writing activities to SQLite3 database:\n",
      "  Started: 02/13/2025 21:55:10\n",
      "  Finished: 02/13/2025 21:55:55\n",
      "  Total time elapsed: 00:00:44\n",
      "  CPU %: 98.70\n",
      "  Memory %: 10.83\n",
      "Created database: ecoinvent-3.10.1-cutoff\n"
     ]
    }
   ],
   "source": [
    "bi.import_ecoinvent_release('3.10.1', 'cutoff', 'Karin Treyer', 'LCA4winterschool*')"
   ]
  },
  {
   "cell_type": "code",
   "execution_count": 5,
   "metadata": {},
   "outputs": [
    {
     "data": {
      "text/plain": [
       "Databases dictionary with 2 object(s):\n",
       "\tecoinvent-3.10.1-biosphere\n",
       "\tecoinvent-3.10.1-cutoff"
      ]
     },
     "execution_count": 5,
     "metadata": {},
     "output_type": "execute_result"
    }
   ],
   "source": [
    "bd.databases"
   ]
  },
  {
   "cell_type": "code",
   "execution_count": 7,
   "metadata": {},
   "outputs": [],
   "source": [
    "#import the calculation time measurer line\n",
    "from tqdm import tqdm"
   ]
  },
  {
   "cell_type": "code",
   "execution_count": 9,
   "metadata": {},
   "outputs": [
    {
     "ename": "SyntaxError",
     "evalue": "invalid syntax. Perhaps you forgot a comma? (3949495779.py, line 4)",
     "output_type": "error",
     "traceback": [
      "\u001b[1;36m  Cell \u001b[1;32mIn[9], line 4\u001b[1;36m\u001b[0m\n\u001b[1;33m    sps = Package(r\"C:\\Users\\treyer_k\\Documents\\GitHub\\stem_to_premise_advanced_geothermal\\datapackage.json\")\u001b[0m\n\u001b[1;37m          ^\u001b[0m\n\u001b[1;31mSyntaxError\u001b[0m\u001b[1;31m:\u001b[0m invalid syntax. Perhaps you forgot a comma?\n"
     ]
    }
   ],
   "source": [
    "  #apply tqdm when doing the calculations\n",
    "tqdm(\n",
    "    \n",
    "    sps = Package(r\"C:\\Users\\treyer_k\\Documents\\GitHub\\stem_to_premise_advanced_geothermal\\datapackage.json\")\n",
    "    scenarios = [\n",
    "        {\"model\": \"image\", \"pathway\": \"SSP2-Base\", \"year\": 2030, \"external scenarios\": [{\"scenario\": \"STEM_AGS_1160\", \"data\": sps}]},\n",
    "        {\"model\": \"image\", \"pathway\": \"SSP2-Base\", \"year\": 2050, \"external scenarios\": [{\"scenario\": \"STEM_AGS_1160\", \"data\": sps}]},\n",
    "        {\"model\": \"image\", \"pathway\": \"SSP2-RCP26\", \"year\": 2030, \"external scenarios\": [{\"scenario\": \"STEM_AGS_1160\", \"data\": sps}]},\n",
    "        {\"model\": \"image\", \"pathway\": \"SSP2-RCP26\", \"year\": 2050, \"external scenarios\": [{\"scenario\": \"STEM_AGS_1160\", \"data\": sps}]},\n",
    "    ]\n",
    "    \n",
    "    ndb = NewDatabase(\n",
    "            scenarios=scenarios,\n",
    "            source_db=\"ecoinvent-3.10.1-cutoff\", # <-- name of the database in the BW2 project. Must be a string.\n",
    "            source_version=\"3.10\", # <-- version of ecoinvent. Must be a string.\n",
    "            key=\"tUePmX_S5B8ieZkkM7WUU2CnO8SmShwmAeWK9x2rTFo=\", # <-- ask the key to run premise from the developers\n",
    "            use_absolute_efficiency=True,\n",
    "            biosphere_name=\"ecoinvent-3.10.1-biosphere\"\n",
    "            \n",
    "    )\n",
    ")\n",
    "\n",
    "    tqdm(\n",
    "        ndb.update()\n",
    "    )\n",
    "    \n",
    "    \n",
    "    tqdm(\n",
    "        ndb.write_db_to_brightway()\n",
    "        )\n",
    "\n"
   ]
  },
  {
   "cell_type": "code",
   "execution_count": null,
   "metadata": {},
   "outputs": [],
   "source": []
  }
 ],
 "metadata": {
  "kernelspec": {
   "display_name": "stem-lca",
   "language": "python",
   "name": "python3"
  },
  "language_info": {
   "codemirror_mode": {
    "name": "ipython",
    "version": 3
   },
   "file_extension": ".py",
   "mimetype": "text/x-python",
   "name": "python",
   "nbconvert_exporter": "python",
   "pygments_lexer": "ipython3",
   "version": "3.11.11"
  }
 },
 "nbformat": 4,
 "nbformat_minor": 2
}
