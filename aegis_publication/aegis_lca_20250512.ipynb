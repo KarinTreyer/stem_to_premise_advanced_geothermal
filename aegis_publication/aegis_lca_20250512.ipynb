{
 "cells": [
  {
   "cell_type": "markdown",
   "metadata": {},
   "source": [
    "# AEGIS: Life Cycle Assessment of electricity and heat production with Advanced Geothermal Systems (AGS)\n",
    "\n",
    "This notebook is for doing the LCA of AGS plants and electricity/heat production.\n",
    "\n"
   ]
  },
  {
   "cell_type": "markdown",
   "metadata": {},
   "source": [
    "### Import necessary packages"
   ]
  },
  {
   "cell_type": "code",
   "execution_count": null,
   "metadata": {},
   "outputs": [],
   "source": [
    "import bw2io as bi\n",
    "import bw2data as bd\n",
    "import bw2calc as bc\n",
    "\n",
    "from premise import *  # in the environment, do pip install premise\n",
    "from datapackage import Package\n",
    "\n",
    "import pandas as pd\n",
    "#import seaborn as sns\n",
    "import matplotlib as plt\n",
    "import polyviz as pv #in the environment, do pip install polyviz\n",
    "\n",
    "import numpy as np\n"
   ]
  },
  {
   "cell_type": "markdown",
   "metadata": {},
   "source": [
    "### Preparing the project - importing biosphere, lcia methods, ecoinvent and creating future ecoinvent databases"
   ]
  },
  {
   "cell_type": "code",
   "execution_count": null,
   "metadata": {},
   "outputs": [],
   "source": [
    "#bd.projects.set_current(\"ags_publication\")\n",
    "bd.projects.set_current(\"psi_magnets\")"
   ]
  },
  {
   "cell_type": "code",
   "execution_count": null,
   "metadata": {},
   "outputs": [],
   "source": [
    "#import biosphere, ecoinvent, LCIA methods\n",
    "bi.import_ecoinvent_release('3.11', 'cutoff', 'Karin Treyer', 'Ein?fach9_ecoinvent')"
   ]
  },
  {
   "cell_type": "code",
   "execution_count": null,
   "metadata": {},
   "outputs": [],
   "source": [
    "imp = bi.ExcelImporter(r'C:\\Users\\treyer_k\\Documents\\PSI\\PSI Magnets\\magnets_lca_v0.xlsx')\n",
    "imp.apply_strategies()\n",
    "imp.match_database(\"ecoinvent-3.11-cutoff\", fields=('name','unit','location', 'reference product'))\n",
    "imp.match_database(fields=('name', 'unit', 'location'))\n",
    "imp.statistics()\n",
    "#imp.write_excel(only_unlinked=True)\n",
    "imp.write_excel()\n",
    "list(imp.unlinked)\n",
    "\n",
    "imp.write_database()"
   ]
  },
  {
   "cell_type": "code",
   "execution_count": null,
   "metadata": {},
   "outputs": [],
   "source": [
    "bd.databases"
   ]
  },
  {
   "cell_type": "markdown",
   "metadata": {},
   "source": [
    "# Create future databases with premise for the year 2030 and the year 2050\n",
    "\n",
    "\n",
    " - use the image IAM. \n",
    "\n",
    "This is done with the \"premise_notebook.ipynb\", using the Swiss specific data from STEM with and without AGS\n",
    "\n",
    "https://github.com/premise-community-scenarios/sweet_sure-2050-switzerland\n",
    "\n",
    "https://github.com/KarinTreyer/stem_to_premise_advanced_geothermal"
   ]
  },
  {
   "cell_type": "markdown",
   "metadata": {},
   "source": [
    "#### Premise with Swiss electricity mixes according to EEG modellings including AGS"
   ]
  },
  {
   "cell_type": "markdown",
   "metadata": {},
   "source": [
    "1. Take the STEM output file from G:\\04_Projects_Proposals\\01_Current Projects\\2022 - AEGIS-CH\\SP4 - STEM. \n",
    "2. Make a copy "
   ]
  },
  {
   "cell_type": "code",
   "execution_count": null,
   "metadata": {},
   "outputs": [],
   "source": [
    "#Create the datapackage.json file from the STEM input\n",
    "#In order to create the necessary STEM input file, you need to open the STEM.xlsx file, save it under a new name, and update the link to the STEAM output file you wish.\n",
    "# Then, you use that file as input to "
   ]
  },
  {
   "cell_type": "code",
   "execution_count": null,
   "metadata": {},
   "outputs": [],
   "source": [
    "sps = Package(r\"C:\\Users\\treyer_k\\Documents\\GitHub\\stem_to_premise_advanced_geothermal\\datapackage.json\")\n",
    "scenarios = [\n",
    "    #{\"model\": \"remind\", \"pathway\": \"SSP2-Base\", \"year\": 2020, \"external scenarios\": [{\"scenario\": \"SPS1\", \"data\": sps}]},\n",
    "    {\"model\": \"remind\", \"pathway\": \"SSP2-Base\", \"year\": 2050, \"external scenarios\": [{\"scenario\": \"AGS_1141\", \"data\": sps}]},\n",
    "    {\"model\": \"remind\", \"pathway\": \"SSP2-Base\", \"year\": 2050, \"external scenarios\": [{\"scenario\": \"AGS_1147\", \"data\": sps}]},\n",
    "    {\"model\": \"remind\", \"pathway\": \"SSP2-Base\", \"year\": 2050, \"external scenarios\": [{\"scenario\": \"AGS_1149\", \"data\": sps}]},\n",
    "    {\"model\": \"remind\", \"pathway\": \"SSP2-Base\", \"year\": 2050, \"external scenarios\": [{\"scenario\": \"AGS_1150\", \"data\": sps}]},\n",
    "    {\"model\": \"remind\", \"pathway\": \"SSP2-Base\", \"year\": 2050, \"external scenarios\": [{\"scenario\": \"AGS_1152\", \"data\": sps}]},\n",
    "    {\"model\": \"remind\", \"pathway\": \"SSP2-Base\", \"year\": 2050, \"external scenarios\": [{\"scenario\": \"AGS_1156\", \"data\": sps}]},\n",
    "    {\"model\": \"remind\", \"pathway\": \"SSP2-Base\", \"year\": 2050, \"external scenarios\": [{\"scenario\": \"AGS_1160\", \"data\": sps}]},\n",
    "    {\"model\": \"remind\", \"pathway\": \"SSP2-Base\", \"year\": 2050, \"external scenarios\": [{\"scenario\": \"BAU_AGS\", \"data\": sps}]},\n",
    "    \n",
    "    {\"model\": \"remind\", \"pathway\": \"SSP2-PkBudg1150\", \"year\": 2050, \"external scenarios\": [{\"scenario\": \"AGS_1141\", \"data\": sps}]},\n",
    "    {\"model\": \"remind\", \"pathway\": \"SSP2-PkBudg1150\", \"year\": 2050, \"external scenarios\": [{\"scenario\": \"AGS_1147\", \"data\": sps}]},\n",
    "    {\"model\": \"remind\", \"pathway\": \"SSP2-PkBudg1150\", \"year\": 2050, \"external scenarios\": [{\"scenario\": \"AGS_1149\", \"data\": sps}]},\n",
    "    {\"model\": \"remind\", \"pathway\": \"SSP2-PkBudg1150\", \"year\": 2050, \"external scenarios\": [{\"scenario\": \"AGS_1150\", \"data\": sps}]},\n",
    "    {\"model\": \"remind\", \"pathway\": \"SSP2-PkBudg1150\", \"year\": 2050, \"external scenarios\": [{\"scenario\": \"AGS_1152\", \"data\": sps}]},\n",
    "    {\"model\": \"remind\", \"pathway\": \"SSP2-PkBudg1150\", \"year\": 2050, \"external scenarios\": [{\"scenario\": \"AGS_1156\", \"data\": sps}]},\n",
    "    {\"model\": \"remind\", \"pathway\": \"SSP2-PkBudg1150\", \"year\": 2050, \"external scenarios\": [{\"scenario\": \"AGS_1160\", \"data\": sps}]},\n",
    "    {\"model\": \"remind\", \"pathway\": \"SSP2-PkBudg1150\", \"year\": 2050, \"external scenarios\": [{\"scenario\": \"BAU_AGS\", \"data\": sps}]},\n",
    "\n",
    "\n",
    "]\n",
    "\n",
    "ndb = NewDatabase(\n",
    "        scenarios=scenarios,\n",
    "        source_db=\"ecoinvent-3.10.1-cutoff\", # <-- name of the database in the BW2 project. Must be a string.\n",
    "        source_version=\"3.10\", # <-- version of ecoinvent. Can be \"3.5\", \"3.6\", \"3.7\" or \"3.8\". Must be a string.\n",
    "        key=\"tUePmX_S5B8ieZkkM7WUU2CnO8SmShwmAeWK9x2rTFo=\",\n",
    "        use_absolute_efficiency=True,\n",
    "        biosphere_name=\"ecoinvent-3.10.1-biosphere\"\n",
    "        \n",
    ")\n",
    "\n",
    "ndb.update()\n",
    "ndb.write_db_to_brightway()\n",
    "\n",
    "#180 minutes for 16 databases\n",
    "#225 minutes for 16 databases\n",
    "#174 minutes for 15 databases"
   ]
  },
  {
   "cell_type": "markdown",
   "metadata": {},
   "source": [
    "#### Backup the project"
   ]
  },
  {
   "cell_type": "code",
   "execution_count": null,
   "metadata": {},
   "outputs": [],
   "source": [
    "#backup the project with all background databases\n",
    "bi.backup.backup_project_directory(\n",
    "    project='ags_publication'\n",
    "   )"
   ]
  },
  {
   "cell_type": "code",
   "execution_count": null,
   "metadata": {},
   "outputs": [],
   "source": [
    "bi.backup.restore_project_directory(\n",
    "    fp=r'C:\\Users\\treyer_k\\Documents\\PSI\\AEGIS-CH\\Publication\\SP1_SP2_SP4\\LCI\\brightway2-project-ags_publication-backup.12-May-2025-10-43PM.tar.gz',\n",
    "    project_name='ags_publication'\n",
    ")"
   ]
  },
  {
   "cell_type": "markdown",
   "metadata": {},
   "source": [
    "# Prepare for LCIA and contribution calculations"
   ]
  },
  {
   "cell_type": "code",
   "execution_count": null,
   "metadata": {},
   "outputs": [],
   "source": [
    "#searching lcia methods\n",
    "lcia = bd.methods\n",
    "\n",
    "\n",
    "ef = [m for m in lcia if 'EF v3.1' in str(m)\n",
    "      and 'no LT' not in str(m)\n",
    "      and 'biogenic' not in str(m)\n",
    "      and 'fossil' not in str(m)\n",
    "      and 'inorganics' not in str(m)\n",
    "      and 'organics' not in str(m)\n",
    "      and 'carcinogenic' not in str(m)\n",
    "      and 'non-carcinogenic' not in str(m)\n",
    "      and 'EN15804' not in str(m)]\n",
    "ef\n",
    "\n",
    "#len(ef)"
   ]
  },
  {
   "cell_type": "code",
   "execution_count": null,
   "metadata": {},
   "outputs": [],
   "source": [
    "ipcc = [m for m in bd.methods if 'IPCC' in str(m) \n",
    "        and '2021' in str(m) \n",
    "        and 'GWP' in str(m) \n",
    "        and 'LT' not in str(m) \n",
    "        and 'fossil' not in str(m) \n",
    "        and 'biogenic' not in str(m) \n",
    "        and 'land use' not in str(m)\n",
    "        and 'SLCFs' not in str(m)\n",
    "        and 'GWP20' not in str(m)\n",
    "        and 'GWP500' not in str(m)]\n",
    "ipcc"
   ]
  },
  {
   "cell_type": "code",
   "execution_count": null,
   "metadata": {},
   "outputs": [],
   "source": [
    "MY_METHODS = [\n",
    "    ('IPCC 2021', 'climate change', 'global warming potential (GWP100)'),\n",
    "    ('EF v3.1', 'acidification', 'accumulated exceedance (AE)'),\n",
    "    ('EF v3.1', 'ecotoxicity: freshwater', 'comparative toxic unit for ecosystems (CTUe)'),\n",
    "    ('EF v3.1', 'ecotoxicity: freshwater, inorganics', 'comparative toxic unit for ecosystems (CTUe)'),\n",
    "    ('EF v3.1', 'ecotoxicity: freshwater, organics', 'comparative toxic unit for ecosystems (CTUe)'),\n",
    "    ('EF v3.1', 'energy resources: non-renewable', 'abiotic depletion potential (ADP): fossil fuels'),\n",
    "    ('EF v3.1', 'eutrophication: freshwater', 'fraction of nutrients reaching freshwater end compartment (P)'),\n",
    "    ('EF v3.1', 'eutrophication: marine', 'fraction of nutrients reaching marine end compartment (N)'),\n",
    "    ('EF v3.1', 'eutrophication: terrestrial', 'accumulated exceedance (AE)'),\n",
    "    ('EF v3.1', 'human toxicity: carcinogenic', 'comparative toxic unit for human (CTUh)'),\n",
    "    ('EF v3.1', 'human toxicity: carcinogenic, inorganics', 'comparative toxic unit for human (CTUh)'),\n",
    "    ('EF v3.1', 'human toxicity: carcinogenic, organics', 'comparative toxic unit for human (CTUh)'),\n",
    "    ('EF v3.1', 'human toxicity: non-carcinogenic', 'comparative toxic unit for human (CTUh)'),\n",
    "    ('EF v3.1', 'human toxicity: non-carcinogenic, inorganics', 'comparative toxic unit for human (CTUh)'),\n",
    "    ('EF v3.1', 'human toxicity: non-carcinogenic, organics', 'comparative toxic unit for human (CTUh)'),\n",
    "    ('EF v3.1', 'ionising radiation: human health', 'human exposure efficiency relative to u235'),\n",
    "    ('EF v3.1', 'land use', 'soil quality index'),\n",
    "    ('EF v3.1', 'material resources: metals/minerals', 'abiotic depletion potential (ADP): elements (ultimate reserves)'),\n",
    "    ('EF v3.1', 'ozone depletion', 'ozone depletion potential (ODP)'),\n",
    "    ('EF v3.1', 'particulate matter formation', 'impact on human health'),\n",
    "    ('EF v3.1', 'photochemical oxidant formation: human health', 'tropospheric ozone concentration increase'),\n",
    "]"
   ]
  },
  {
   "cell_type": "code",
   "execution_count": null,
   "metadata": {},
   "outputs": [],
   "source": [
    "MY_METHODS_SHORT = [\n",
    "    ('IPCC 2021', 'climate change', 'global warming potential (GWP100)'),\n",
    "    ('EF v3.1', 'acidification', 'accumulated exceedance (AE)'),\n",
    "    ('EF v3.1', 'ecotoxicity: freshwater', 'comparative toxic unit for ecosystems (CTUe)'),\n",
    "    #('EF v3.1', 'human toxicity: carcinogenic', 'comparative toxic unit for human (CTUh)'),\n",
    "    #('EF v3.1', 'human toxicity: non-carcinogenic', 'comparative toxic unit for human (CTUh)'),\n",
    "    #('EF v3.1', 'land use', 'soil quality index'),\n",
    "    ('EF v3.1', 'material resources: metals/minerals', 'abiotic depletion potential (ADP): elements (ultimate reserves)'),\n",
    "    ('EF v3.1', 'ozone depletion', 'ozone depletion potential (ODP)'),\n",
    "    ('EF v3.1', 'particulate matter formation', 'impact on human health'),\n",
    "    ('EF v3.1', 'photochemical oxidant formation: human health', 'tropospheric ozone concentration increase'),\n",
    "]"
   ]
  },
  {
   "cell_type": "code",
   "execution_count": null,
   "metadata": {},
   "outputs": [],
   "source": [
    "DICT_UNITS = {\n",
    "    ('IPCC 2021', 'climate change', 'global warming potential (GWP100)'): \"kg CO$_{2}$-eq.\",  \n",
    "     ('EF v3.1', 'acidification', 'accumulated exceedance (AE)'): \"mol H+ -eq.\", \n",
    "    ('EF v3.1', 'ecotoxicity: freshwater', 'comparative toxic unit for ecosystems (CTUe)'): \"CTUe\",  \n",
    "    ('EF v3.1', 'ecotoxicity: freshwater, inorganics', 'comparative toxic unit for ecosystems (CTUe)'): \"CTUe\",  \n",
    "    ('EF v3.1', 'ecotoxicity: freshwater, organics', 'comparative toxic unit for ecosystems (CTUe)'): \"CTUe\",  \n",
    "    ('EF v3.1', 'energy resources: non-renewable', 'abiotic depletion potential (ADP): fossil fuels'): \"MJ, net calorific value\",  \n",
    "    ('EF v3.1', 'eutrophication: freshwater', 'fraction of nutrients reaching freshwater end compartment (P)'): \"kg P-eq.\",\n",
    "    ('EF v3.1', 'eutrophication: marine', 'fraction of nutrients reaching marine end compartment (N)'): \"kg N-eq.\",  \n",
    "    ('EF v3.1', 'eutrophication: terrestrial', 'accumulated exceedance (AE)'): \"mol N-eq.\" ,\n",
    "    ('EF v3.1', 'human toxicity: carcinogenic', 'comparative toxic unit for human (CTUh)'): \"CTUh\",  \n",
    "    ('EF v3.1', 'human toxicity: carcinogenic, inorganics', 'comparative toxic unit for human (CTUh)'): \"CTUh\",  \n",
    "    ('EF v3.1', 'human toxicity: carcinogenic, organics', 'comparative toxic unit for human (CTUh)'): \"CTUh\",  \n",
    "    ('EF v3.1', 'human toxicity: non-carcinogenic', 'comparative toxic unit for human (CTUh)'): \"CTUh\",  \n",
    "    ('EF v3.1', 'human toxicity: non-carcinogenic, inorganics', 'comparative toxic unit for human (CTUh)'): \"CTUh\",  \n",
    "    ('EF v3.1', 'human toxicity: non-carcinogenic, organics', 'comparative toxic unit for human (CTUh)'): \"CTUh\",  \n",
    "    ('EF v3.1', 'ionising radiation: human health', 'human exposure efficiency relative to u235'): \"kBq U$_{235}$-eq.\",  \n",
    "    ('EF v3.1', 'material resources: metals/minerals', 'abiotic depletion potential (ADP): elements (ultimate reserves)'): \"kg Sb-eq.\",  \n",
    "    ('EF v3.1', 'ozone depletion', 'ozone depletion potential (ODP)'): \"kg CFC-11-eq.\",  \n",
    "    ('EF v3.1', 'land use', 'soil quality index'): \"dimensionless\",      \n",
    "    ('EF v3.1', 'particulate matter formation', 'impact on human health'): \"disease incidence\",  \n",
    "    ('EF v3.1', 'photochemical oxidant formation: human health', 'tropospheric ozone concentration increase'): \"kg NMVOC-eq.\",  \n",
    "    ('EF v3.1', 'water use', 'user deprivation potential (deprivation-weighted water consumption)'): \"m$^{3}$ world eq. deprived\",  \n",
    "             }"
   ]
  },
  {
   "cell_type": "markdown",
   "metadata": {},
   "source": [
    "# Calculate environmental impacts of Swiss electricity according to STEM scenarios with/without geothermal"
   ]
  },
  {
   "cell_type": "code",
   "execution_count": null,
   "metadata": {},
   "outputs": [],
   "source": [
    "bd.databases"
   ]
  },
  {
   "cell_type": "code",
   "execution_count": null,
   "metadata": {},
   "outputs": [],
   "source": [
    "future_dbs = [x for x in bd.databases if 'remind' in x]\n",
    "future_dbs"
   ]
  },
  {
   "cell_type": "code",
   "execution_count": null,
   "metadata": {},
   "outputs": [],
   "source": [
    "#Take the low voltage markets for the environmental impact score of the consumed electricity\n",
    "el_ds_low = [x for db in future_dbs \n",
    "         for x in bd.Database(db)\n",
    "         if 'market for electricity, low voltage (SPS)' in x['name']]\n",
    "\n",
    "el_ds_low"
   ]
  },
  {
   "cell_type": "code",
   "execution_count": null,
   "metadata": {},
   "outputs": [],
   "source": [
    "#Take the high voltage markets to do the contribution analysis (premise does not have suppliers on medium/low voltage markets)\n",
    "\n",
    "el_ds_high = [x for db in future_dbs \n",
    "         for x in bd.Database(db)\n",
    "         if 'market for electricity, high voltage (SPS)' in x['name']]\n",
    "\n",
    "el_ds_high"
   ]
  },
  {
   "cell_type": "code",
   "execution_count": null,
   "metadata": {},
   "outputs": [],
   "source": [
    "#check from which database these activities are:\n",
    "for el in el_ds_low:\n",
    "    print(el['database'])"
   ]
  },
  {
   "cell_type": "code",
   "execution_count": null,
   "metadata": {},
   "outputs": [],
   "source": [
    "#TODO: Display activity name and database together\n",
    "\n",
    "el_ds_dict = {}\n",
    "\n",
    "for db in future_dbs:\n",
    "    el = [x for x in bd.Database(db) if 'market for electricity, low voltage (SPS)' in x['name']]\n",
    "    el_ds_low[db] = el  # Store the list of activities under the database name\n",
    "\n",
    "el_ds_dict\n"
   ]
  },
  {
   "cell_type": "code",
   "execution_count": null,
   "metadata": {},
   "outputs": [],
   "source": [
    "#TODO\n",
    "#Create a dictionary which translates the future_dbs names into a more human readable name.\n",
    "#The keys are the elements of \"future_dbs\", the values are the elements of \"scenario_names\"\n",
    "\n",
    "scenario_names = [\n",
    "    'Base 2030 AGS',\n",
    " 'Base 2050 AGS',\n",
    " 'RCP26 2030 AGS',\n",
    " 'RCP26 2050 AGS',\n",
    " 'Base 2030 no geothermal',\n",
    " 'Base 2050 no geothermal',\n",
    " 'RCP26 2030 no geothermal',\n",
    " 'RCP26 2050 no geothermal',\n",
    " ]\n",
    "\n",
    "#now combine the two lists into a dictionary\n",
    "\n",
    "scenarios = dict(zip(future_dbs, scenario_names))\n",
    "\n",
    "scenarios"
   ]
  },
  {
   "cell_type": "code",
   "execution_count": null,
   "metadata": {},
   "outputs": [],
   "source": [
    "#for each of the element in el_ds_dict, do the lca\n",
    "\n",
    "FU = [{x:1} for x in el_ds_low]\n",
    "\n",
    "bd.calculation_setups['Swiss electricity'] = {'inv':FU, 'ia': MY_METHODS_SHORT}\n",
    "mLCA = bc.MultiLCA('Swiss electricity')\n",
    "mLCA.results"
   ]
  },
  {
   "cell_type": "code",
   "execution_count": null,
   "metadata": {},
   "outputs": [],
   "source": [
    "mLCAdf = pd.DataFrame(index = MY_METHODS_SHORT, \n",
    "                      columns = [(x['name'], x['location'], x['database'])\n",
    "                                 for y in FU for x in y], data = mLCA.results.T)\n",
    "\n",
    "mLCAdf"
   ]
  },
  {
   "cell_type": "code",
   "execution_count": null,
   "metadata": {},
   "outputs": [],
   "source": [
    "#write this dataframe to excel with the name 'ch_electricity'\n",
    "mLCAdf.to_excel('ch_electricity_ags_low.xlsx')"
   ]
  },
  {
   "cell_type": "code",
   "execution_count": null,
   "metadata": {},
   "outputs": [],
   "source": [
    "mLCAdf.plot.bar()"
   ]
  },
  {
   "cell_type": "code",
   "execution_count": null,
   "metadata": {},
   "outputs": [],
   "source": [
    "norm_df = (mLCAdf.T/mLCAdf.abs().max(axis=1)).T\n",
    "norm_df.plot.bar()\n",
    "\n",
    "#place the legend outside the plot\n",
    "ax = norm_df.plot.bar(figsize=(12, 6), fontsize=8)\n",
    "ax.legend(bbox_to_anchor=(1.05, 1), loc='upper left', fontsize=8)\n",
    "plt.pyplot.tight_layout()\n",
    "plt.pyplot.savefig('ch_electricity_norm.png', dpi=300, bbox_inches='tight')"
   ]
  },
  {
   "cell_type": "markdown",
   "metadata": {},
   "source": [
    "Doing the contribution analysis for the high voltage electricity mixes"
   ]
  },
  {
   "cell_type": "code",
   "execution_count": null,
   "metadata": {},
   "outputs": [],
   "source": [
    "#for each of the element in el_ds_dict, do the lca\n",
    "\n",
    "FU = [{x:1} for x in el_ds_high]\n",
    "\n",
    "bd.calculation_setups['Swiss electricity_contrib'] = {'inv':FU, 'ia': MY_METHODS_SHORT}\n",
    "mLCA = bc.MultiLCA('Swiss electricity_contrib')\n",
    "mLCA.results"
   ]
  },
  {
   "cell_type": "code",
   "execution_count": null,
   "metadata": {},
   "outputs": [],
   "source": [
    "mLCAdf = pd.DataFrame(index = MY_METHODS_SHORT, \n",
    "                      columns = [(x['name'], x['location'], x['database'])\n",
    "                                 for y in FU for x in y], data = mLCA.results.T)\n",
    "\n",
    "mLCAdf"
   ]
  },
  {
   "cell_type": "code",
   "execution_count": null,
   "metadata": {},
   "outputs": [],
   "source": [
    "#write this dataframe to excel with the name 'ch_electricity'\n",
    "mLCAdf.to_excel('ch_electricity_ags_high.xlsx')"
   ]
  },
  {
   "cell_type": "code",
   "execution_count": null,
   "metadata": {},
   "outputs": [],
   "source": [
    "from polyviz.utils import calculate_supply_chain"
   ]
  },
  {
   "cell_type": "code",
   "execution_count": null,
   "metadata": {},
   "outputs": [],
   "source": [
    "a = el_ds_high[1]\n",
    "print(a['name'])\n",
    "print(a['database'])"
   ]
  },
  {
   "cell_type": "code",
   "execution_count": null,
   "metadata": {},
   "outputs": [],
   "source": [
    "el_short = el_ds_high[:2]"
   ]
  },
  {
   "cell_type": "code",
   "execution_count": null,
   "metadata": {},
   "outputs": [],
   "source": [
    "df = pd.DataFrame()\n",
    "\n",
    "for act in el_ds_high:\n",
    "    for m in MY_METHODS_SHORT:\n",
    "        print(act, m, act['database'])\n",
    "        data = calculate_supply_chain(act, m, 2, 1e-4)[0]\n",
    "        data = [[act['database'], act['name'], act['location'], '-'.join(m)] + d for d in data]\n",
    "        df = pd.concat([df, pd.DataFrame(data)], axis = 0, ignore_index = True)\n",
    "\n",
    "df.columns = ['database', 'activity', 'location', 'lcia_method', 'level', 'contribution share', 'absolute score', 'amount in dataset', \n",
    "                      'activity contributing', 'location contributing', 'unit']\n",
    "df.to_excel('contribution_analysis_ch_electricity.xlsx')"
   ]
  },
  {
   "cell_type": "markdown",
   "metadata": {},
   "source": [
    "# Import own inventories\n",
    "\n",
    " - CO2 supply chain: CO2 capture at KVA Linth, CO2 storage, transport, compression\n",
    " - Well drilling, surface plant, well closure"
   ]
  },
  {
   "cell_type": "markdown",
   "metadata": {},
   "source": [
    "#### Import CO2 supply chain inventory"
   ]
  },
  {
   "cell_type": "code",
   "execution_count": null,
   "metadata": {},
   "outputs": [],
   "source": [
    "#del bd.databases['ags']\n",
    "#del bd.databases['co2_kva']"
   ]
  },
  {
   "cell_type": "code",
   "execution_count": null,
   "metadata": {},
   "outputs": [],
   "source": [
    "imp = bi.ExcelImporter(r'C:\\Users\\treyer_k\\Documents\\PSI\\AEGIS-CH\\Publication\\SP1_SP2_SP4\\LCI\\lci_co2_supply_chain.xlsx')\n",
    "imp.apply_strategies()\n",
    "imp.match_database(\"ecoinvent-3.10.1-cutoff\", fields=('name','unit','location', 'reference product'))\n",
    "imp.match_database(fields=('name', 'unit', 'location'))\n",
    "imp.statistics()\n",
    "#imp.write_excel(only_unlinked=True)\n",
    "imp.write_excel()\n",
    "list(imp.unlinked)\n",
    "\n",
    "imp.write_database()"
   ]
  },
  {
   "cell_type": "markdown",
   "metadata": {},
   "source": [
    "#### Import advanced geothermal plant inventory"
   ]
  },
  {
   "cell_type": "code",
   "execution_count": null,
   "metadata": {},
   "outputs": [],
   "source": [
    "ags_dbs = [x for x in bd.databases if 'ags' in x]\n",
    "ags_dbs\n",
    "\n",
    "for db in ags_dbs:\n",
    "    del bd.databases[db]"
   ]
  },
  {
   "cell_type": "code",
   "execution_count": null,
   "metadata": {},
   "outputs": [],
   "source": [
    "imp = bi.ExcelImporter(r'C:\\Users\\treyer_k\\Documents\\PSI\\AEGIS-CH\\Publication\\SP1_SP2_SP4\\LCI\\lci_ags.xlsx') #give the path to your inventory excel file\n",
    "imp.apply_strategies()\n",
    "imp.match_database(\"ecoinvent-3.10.1-cutoff\", fields=('name','unit','location', 'reference product'))\n",
    "imp.match_database(\"co2_kva\", fields=('name','unit','location', 'reference product'))\n",
    "imp.match_database(fields=('name', 'unit', 'location'))\n",
    "imp.statistics()\n",
    "#imp.write_excel(only_unlinked=True)\n",
    "imp.write_excel()\n",
    "list(imp.unlinked)\n",
    "\n",
    "imp.write_database()"
   ]
  },
  {
   "cell_type": "markdown",
   "metadata": {},
   "source": [
    "#### Doing a small LCA for check"
   ]
  },
  {
   "cell_type": "code",
   "execution_count": null,
   "metadata": {},
   "outputs": [],
   "source": [
    "co2 = bd.Database('co2_kva')\n",
    "len(co2)"
   ]
  },
  {
   "cell_type": "code",
   "execution_count": null,
   "metadata": {},
   "outputs": [],
   "source": [
    "co2_final = [a for a in co2 if 'pumping' in a['name'] and '90' not in a['name'] and 'without' not in a['name']]\n",
    "co2_final"
   ]
  },
  {
   "cell_type": "code",
   "execution_count": null,
   "metadata": {},
   "outputs": [],
   "source": [
    "lca = bc.LCA({co2_final[0]:1})\n",
    "FU = [{x:1} for x in co2_final]\n",
    "\n",
    "bd.calculation_setups['co2_chain'] = {'inv': FU, 'ia': MY_METHODS_SHORT}\n",
    "\n",
    "lca = bc.MultiLCA('co2_chain')\n",
    "lca.results"
   ]
  },
  {
   "cell_type": "code",
   "execution_count": null,
   "metadata": {},
   "outputs": [],
   "source": [
    "lcadf = pd.DataFrame(index = MY_METHODS_SHORT, \n",
    "                     columns = [(x['name'], x['location']) for y in FU for x in y], data = lca.results.T)\n",
    "lcadf"
   ]
  },
  {
   "cell_type": "code",
   "execution_count": null,
   "metadata": {},
   "outputs": [],
   "source": [
    "bd.Method(ipcc[0]).metadata['unit']"
   ]
  },
  {
   "cell_type": "code",
   "execution_count": null,
   "metadata": {},
   "outputs": [],
   "source": [
    "lca = bc.LCA({co2_final[0]:1}, ipcc[0])\n",
    "lca.lci()\n",
    "lca.lcia()\n",
    "lca.score"
   ]
  },
  {
   "cell_type": "markdown",
   "metadata": {},
   "source": [
    "Do the contribution analysis for these co2 datasets"
   ]
  },
  {
   "cell_type": "code",
   "execution_count": null,
   "metadata": {},
   "outputs": [],
   "source": [
    "from polyviz.utils import calculate_supply_chain"
   ]
  },
  {
   "cell_type": "code",
   "execution_count": null,
   "metadata": {},
   "outputs": [],
   "source": [
    "df = pd.DataFrame()\n",
    "\n",
    "for act in co2_final:\n",
    "    for m in MY_METHODS_SHORT:\n",
    "        print(act, m)\n",
    "        data = calculate_supply_chain(act, m, 4, 1e-4)[0]\n",
    "        data = [[act['name'], act['location'], '-'.join(m)] + d for d in data]\n",
    "        df = pd.concat([df, pd.DataFrame(data)], axis = 0, ignore_index = True)\n",
    "df.columns = ['activity', 'location', 'lcia_method', 'level', 'contribution share', 'absolute score', 'amount in dataset', \n",
    "                      'activity contributing', 'location contributing', 'unit']\n",
    "df.to_excel('contribution_analysis_co2.xlsx')\n",
    "        "
   ]
  },
  {
   "cell_type": "markdown",
   "metadata": {},
   "source": [
    "Do the contribution analysis for the AGS datasets"
   ]
  },
  {
   "cell_type": "code",
   "execution_count": null,
   "metadata": {},
   "outputs": [],
   "source": [
    "ags = bd.Database('ags')"
   ]
  },
  {
   "cell_type": "code",
   "execution_count": null,
   "metadata": {},
   "outputs": [],
   "source": [
    "ags_electricity = [a for a in ags if 'electricity production' in a['name'] ]\n",
    "ags_electricity"
   ]
  },
  {
   "cell_type": "markdown",
   "metadata": {},
   "source": [
    "Link both databases to future databases so that the technology supply chains are valid for the future\n",
    "\n",
    "Only pick 2050 LOW/BAU for both databases = 4 future versions in total"
   ]
  },
  {
   "cell_type": "code",
   "execution_count": null,
   "metadata": {},
   "outputs": [],
   "source": [
    "df = pd.DataFrame()\n",
    "\n",
    "for act in ags_electricity:\n",
    "    for m in MY_METHODS_SHORT:\n",
    "        print(act, m)\n",
    "        data = calculate_supply_chain(act, m, 4, 1e-4)[0]\n",
    "        data = [[act['name'], act['location'], '-'.join(m)] + d for d in data]\n",
    "        df = pd.concat([df, pd.DataFrame(data)], axis = 0, ignore_index = True)\n",
    "df.columns = ['activity', 'location', 'lcia_method', 'level', 'contribution share', 'absolute score', 'amount in dataset', \n",
    "                      'activity contributing', 'location contributing', 'unit']\n",
    "df.to_excel('contribution_analysis_ags.xlsx')"
   ]
  },
  {
   "cell_type": "markdown",
   "metadata": {},
   "source": [
    "# Comparison to other electricity producing technologies    "
   ]
  },
  {
   "cell_type": "code",
   "execution_count": null,
   "metadata": {},
   "outputs": [],
   "source": []
  },
  {
   "cell_type": "code",
   "execution_count": null,
   "metadata": {},
   "outputs": [],
   "source": []
  },
  {
   "cell_type": "code",
   "execution_count": null,
   "metadata": {},
   "outputs": [],
   "source": []
  },
  {
   "cell_type": "markdown",
   "metadata": {},
   "source": [
    "# Prepare mapping for contribution analysis"
   ]
  },
  {
   "cell_type": "code",
   "execution_count": null,
   "metadata": {},
   "outputs": [],
   "source": [
    "activities = [a for a in co2 if 'without' not in a['name']\n",
    "                    and 'water' not in a['name']\n",
    "                    and 'AMP' not in a['name']\n",
    "                    and'operation' not in a['name']\n",
    "]\n",
    "activities"
   ]
  },
  {
   "cell_type": "code",
   "execution_count": null,
   "metadata": {},
   "outputs": [],
   "source": [
    "CONTRIBUTION_MAPPING_CO2 = {\n",
    "'CO2 pumping, supercritical, into geothermal well, per meter': 'CO2 Pumping',\n",
    "'CO2 production, supercritical, 90 bar, for pumping into geothermal well': 'CO2 Conditioning',\n",
    "'CO2 transport, liquid, 15 bar, from waste incineration plant, Linth, Switzerland': 'CO2 Transport',\n",
    "'CO2 storage, temporary, 5 days, 15 bar, waste incineration plant, Linth, Switzerland': 'CO2 Storage',\n",
    "'CO2 conditioning, at 15 bar, waste incineration plant, Linth, Switzerland': 'CO2 Conditioning',\n",
    "'CO2 captured at capture unit, waste incineration plant, Linth, Switzerland': 'CO2 Capture'}"
   ]
  },
  {
   "cell_type": "code",
   "execution_count": null,
   "metadata": {},
   "outputs": [],
   "source": [
    "print(CONTRIBUTION_MAPPING_CO2.keys())"
   ]
  },
  {
   "cell_type": "code",
   "execution_count": null,
   "metadata": {},
   "outputs": [],
   "source": [
    "def group_exchange_scores(lst):\n",
    "    # We will store results in a dict, with keys for group label and values of LCIA score.\n",
    "    grouped_results = defaultdict(int)\n",
    "\n",
    "    for exc, score in lst[1:]:\n",
    "        grouped_results[CONTRIBUTION_MAPPING_CO2[exc.input['name']]] += score\n",
    "    return grouped_results"
   ]
  },
  {
   "cell_type": "code",
   "execution_count": null,
   "metadata": {},
   "outputs": [],
   "source": [
    "import brightway2 as bw\n",
    "import pyprind\n",
    "from collections import defaultdict"
   ]
  },
  {
   "cell_type": "code",
   "execution_count": null,
   "metadata": {},
   "outputs": [],
   "source": [
    "# This part of the script is adopted from Antonini and Treyer et al. (2020)\n",
    "result_array = [[[] for _ in activities] for _ in MY_METHODS]  #Creating a list of lists where the outer iterates over methods and the inner over activities. \n",
    "#For each combination, it initializes an empty list\n",
    "\n",
    "#Initialise the LCA object with the first and last activitiy in the list, so that we cover a good range of the activities list\n",
    "#and can later on use lca.switch and lca.redo\n",
    "lca = bw.LCA({activities[0]: 1, activities[-1]: 1}, method=MY_METHODS[0])\n",
    "lca.lci()\n",
    "lca.lcia()\n",
    "\n",
    "for i, method in enumerate(pyprind.prog_bar(MY_METHODS)): #outer loop iterates over methods\n",
    "    #print(method)\n",
    "    lca.switch_method(method)\n",
    "    for j, activity in enumerate(activities): #inner loop iterates over activities\n",
    "        #print(activity['name'])\n",
    "        lca.redo_lcia({activity: 1})  #calculates the LCA for the given activity\n",
    "        # Add total to check afterwards that all exchanges add up to total\n",
    "        result_array[i][j].append((\"total\", lca.score))\n",
    "        for exc in activity.exchanges():\n",
    "            if exc['type'] == 'technosphere':\n",
    "                lca.redo_lcia({exc.input: exc['amount']})\n",
    "                result_array[i][j].append((exc, lca.score))\n",
    "            elif exc['type'] == 'biosphere':\n",
    "                # Need to multiple the amount times its CF\n",
    "                cf = lca.characterization_matrix[lca.biosphere_dict[exc.input], :].sum()\n",
    "                result_array[i][j].append((exc, cf * exc['amount']))\n",
    "\n",
    "#Checking for if the total score matches the sum of individual exchange scores for each activitiy\n",
    "for method in result_array:\n",
    "    for activity in method:\n",
    "        if not np.allclose(activity[0][1], sum([o[1] for o in activity[1:]])):\n",
    "            print(\"Mismatch\")\n",
    "            break\n",
    "\n",
    "grouped_array = [[group_exchange_scores(j) for j in i] for i in result_array]"
   ]
  },
  {
   "cell_type": "code",
   "execution_count": null,
   "metadata": {},
   "outputs": [],
   "source": [
    "#TODO: Show the results for the CO2 supply chain using the contribution mapping set up above"
   ]
  },
  {
   "cell_type": "code",
   "execution_count": null,
   "metadata": {},
   "outputs": [],
   "source": []
  },
  {
   "cell_type": "markdown",
   "metadata": {},
   "source": [
    "## Calculate LCIA scores using dataframes"
   ]
  },
  {
   "cell_type": "markdown",
   "metadata": {},
   "source": [
    "I want to read in dataframes and multiply them with each other.\n",
    "\n",
    "df_lcia_seed:\n",
    "rows are activities (act1, act2, act3...)\n",
    "columns are lcia categories (gwp, odp, adp, pm,...)\n",
    "values are lcia scores (numerical)\n",
    "\n",
    "df_lci:\n",
    "rows are process names (p1, p2, p3,...)\n",
    "columns are cases (c1, c2, c3)\n",
    "values are numerical values (5, 4.4, 3, ...)\n",
    "\n",
    "A vector is linked to each row which contains the activity name (act54, act3, act9) with which the values in df_lci need to be multiplied (the value which belongs to each activity is taken fro df_lcia_seed).\n",
    "\n",
    "df_lcia:\n",
    "rows are in hierarchy: first the impact category (gwp, odp, adp, pm,...), second the process names (p1, p2, p3) for each impact category\n",
    "columns are the cases\n",
    "values are the values from df_lci times the value from df_lcia_seed for the correct impact category and act combination (impact category is taken from first hierachy, act is taken from vector. "
   ]
  },
  {
   "cell_type": "markdown",
   "metadata": {},
   "source": [
    "A) LCIA dataframes for each IMAGE/STEM time step and scenario"
   ]
  },
  {
   "cell_type": "code",
   "execution_count": null,
   "metadata": {},
   "outputs": [],
   "source": [
    "\n",
    "#TODO: create the dfs with the lcia seed for each time step and scenario\n",
    "#import df from excel file, specific worksheet\n",
    "df_lcia_seed = pd.read_excel(r'C:\\Users\\treyer_k\\Documents\\PSI\\AEGIS-CH\\Publication\\SP1_SP2_SP4\\lcia calculation.xlsx', sheet_name='df_lcia_seed')\n",
    "df_lcia_seed"
   ]
  },
  {
   "cell_type": "code",
   "execution_count": null,
   "metadata": {},
   "outputs": [],
   "source": []
  },
  {
   "cell_type": "markdown",
   "metadata": {},
   "source": [
    "B) LCI input dataframe for all different cases"
   ]
  },
  {
   "cell_type": "code",
   "execution_count": null,
   "metadata": {},
   "outputs": [],
   "source": [
    "#TODO: import the lci df which contains the data for different cases\n",
    "\n",
    "df_lci = pd.read_excel(r'C:\\Users\\treyer_k\\Documents\\PSI\\AEGIS-CH\\Publication\\SP1_SP2_SP4\\lcia calculation.xlsx', sheet_name='df_lci')\n",
    "df_lci"
   ]
  },
  {
   "cell_type": "code",
   "execution_count": null,
   "metadata": {},
   "outputs": [],
   "source": []
  },
  {
   "cell_type": "markdown",
   "metadata": {},
   "source": [
    "LCIA calculation\n",
    "\n",
    "I think I can only do this for 1 scenario 1 year each time. "
   ]
  },
  {
   "cell_type": "code",
   "execution_count": null,
   "metadata": {},
   "outputs": [],
   "source": [
    "for category in df_lcia_seed.columns:\n",
    "    #get impact factors for each process using the mapping vector\n",
    "    impact_factor = vector.map(df_lcia_seed[category])\n",
    "\n",
    "    #multiply the impact factor with the lci data\n",
    "    df_lcia_category = df_lci.mul(impact_factors, axis = 0)\n",
    "\n",
    "    #Create MultiIndex for output\n",
    "    df_lcia_category.index = pd.MultiIndex.from_product([[category], df_lci.index])\n",
    "\n",
    "    #Append to result dataframe\n",
    "    df_lcia = pd.concat([df_lcia, df_lcia_category], axis=0)\n",
    "\n",
    "#print result\n",
    "print(df_lcia)"
   ]
  },
  {
   "cell_type": "markdown",
   "metadata": {},
   "source": [
    "****************************************************************************************************************"
   ]
  },
  {
   "cell_type": "code",
   "execution_count": null,
   "metadata": {},
   "outputs": [],
   "source": [
    "CONTRIBUTION_MAPPING_SYSTEM = {\n",
    "    # Electrolyzer\n",
    "    'electrolyzer production, 1MWe, PEM, Stack':\"PEM construction\", \n",
    "    'electrolyzer production, 1MWe, PEM, Balance of Plant':\"PEM construction\", \n",
    "    \n",
    "    # Electricity\n",
    "    \"electricity production, hydro, reservoir, alpine region\":\"Electricity\", \n",
    "    \"electricity production, hydro, reservoir, non–alpine region\":\"Electricity\", \n",
    "    \"electricity production, hydro, reservoir, tropical region\":\"Electricity\", \n",
    "    \"market group for electricity, medium voltage\":\"Electricity\",   \n",
    "    'market for electricity, low voltage':\"Electricity\",    \n",
    "    \"electricity production, photovoltaic, 3kWp slanted–roof installation, multi–Si, panel, mounted\": \"Electricity\", \n",
    "    \"570 kWp open ground installation, multi–Si, on open ground\": \"Electricity\", \n",
    "    \n",
    "    \"market for photovoltaic slanted–roof installation, 3kWp, multi–Si, panel, mounted, on roof\": \"Electricity\", \n",
    "    \"electricity production, wind, 1–3MW turbine, onshore\":\"Electricity\", \n",
    "    \"electricity production, natural gas, combined cycle power plant\":\"Electricity\", \n",
    "    \"market group for electricity, high voltage\": \"Electricity\",\n",
    "    'market group for electricity, low voltage': \"Electricity\",\n",
    "    'electricity production, hydro, run–of–river':\"Electricity\", \n",
    "    'electricity production, wind, 1–3MW turbine, offshore':\"Electricity\", \n",
    "    'electricity production, nuclear, pressure water reactor':\"Electricity\", \n",
    "     \"market group for electricity, high voltage\": \"Electricity\",\n",
    "    \"market for electricity, medium voltage\":\"Electricity\",  \n"
   ]
  },
  {
   "cell_type": "code",
   "execution_count": null,
   "metadata": {},
   "outputs": [],
   "source": []
  },
  {
   "cell_type": "code",
   "execution_count": null,
   "metadata": {},
   "outputs": [],
   "source": []
  },
  {
   "cell_type": "code",
   "execution_count": null,
   "metadata": {},
   "outputs": [],
   "source": []
  },
  {
   "cell_type": "markdown",
   "metadata": {},
   "source": [
    "#### In case several databases need to be deleted"
   ]
  },
  {
   "cell_type": "markdown",
   "metadata": {},
   "source": [
    "Method 1)\n"
   ]
  },
  {
   "cell_type": "code",
   "execution_count": null,
   "metadata": {},
   "outputs": [],
   "source": [
    "future_dbs = [x for x in bd.databases if 'remind' in x]\n",
    "future_dbs"
   ]
  },
  {
   "cell_type": "code",
   "execution_count": null,
   "metadata": {},
   "outputs": [],
   "source": [
    "for a in future_dbs:\n",
    "    del bd.databases[a]"
   ]
  },
  {
   "cell_type": "markdown",
   "metadata": {},
   "source": [
    "Method 2)"
   ]
  },
  {
   "cell_type": "code",
   "execution_count": null,
   "metadata": {},
   "outputs": [],
   "source": [
    "bd.databases"
   ]
  },
  {
   "cell_type": "code",
   "execution_count": null,
   "metadata": {},
   "outputs": [],
   "source": [
    "#in case created databases need to be deleted:\n",
    "dbs = list(bd.databases)\n",
    "for idx, col in enumerate(dbs):\n",
    "    print(idx, col)"
   ]
  },
  {
   "cell_type": "code",
   "execution_count": null,
   "metadata": {},
   "outputs": [],
   "source": [
    "#new list only containing the list items from index 11 onwards\n",
    "dbs_del = list(bd.databases)[11:]\n",
    "dbs_del"
   ]
  },
  {
   "cell_type": "code",
   "execution_count": null,
   "metadata": {},
   "outputs": [],
   "source": [
    "#If you need to delete a chosen set of databases:\n",
    "# create a new list with selected items based on indices\n",
    "dbs_del = [dbs[i] for i in [2,3, 5, 9, 10, 11, 12, 13, 14]]\n",
    "dbs_del"
   ]
  },
  {
   "cell_type": "code",
   "execution_count": null,
   "metadata": {},
   "outputs": [],
   "source": [
    "#and delete those\n",
    "for el in dbs_del:\n",
    "    del bd.databases[el]"
   ]
  },
  {
   "cell_type": "code",
   "execution_count": null,
   "metadata": {},
   "outputs": [],
   "source": [
    "dbs = list(bd.databases)\n",
    "for idx, col in enumerate(dbs):\n",
    "    print(idx, col)"
   ]
  },
  {
   "cell_type": "code",
   "execution_count": null,
   "metadata": {},
   "outputs": [],
   "source": [
    "#re-order that list\n",
    "order = [0,1,4,9,10,7,8,3,5,6,2]\n",
    "dbs = [dbs[i] for i in order]\n",
    "dbs"
   ]
  },
  {
   "cell_type": "markdown",
   "metadata": {},
   "source": [
    "### Couple foreground databases with future background databases"
   ]
  },
  {
   "cell_type": "code",
   "execution_count": null,
   "metadata": {},
   "outputs": [],
   "source": [
    "# relink foreground database to new background database\n",
    "\n",
    "old_db_name = \"co2_kva\"\n",
    "\n",
    "# current background database\n",
    "old_dependency_name = \"ecoinvent-3.10.1-cutoff\"\n",
    "\n",
    "# new background database to link to\n",
    "new_dependency_name = \"ei_cutoff_3.10_image_SSP2-Base_2030_AGS_1160 2025-02-14\"\n",
    "\n",
    "# new foreground database name\n",
    "new_db_name = f\"{old_db_name} {new_dependency_name}\"\n"
   ]
  },
  {
   "cell_type": "code",
   "execution_count": null,
   "metadata": {},
   "outputs": [],
   "source": [
    "# load database object\n",
    "db = bw2data.Database(old_db_name)"
   ]
  },
  {
   "cell_type": "code",
   "execution_count": null,
   "metadata": {},
   "outputs": [],
   "source": [
    "# turn it into a dictionary\n",
    "data = db.load()\n",
    "\n",
    "for i, ds in data.items():\n",
    "\n",
    "    ds[\"database\"] = new_db_name\n",
    "    for e in ds[\"exchanges\"]:\n",
    "        #print(e)\n",
    "        if e.get(\"input\")[0] == old_dependency_name:\n",
    "            e[\"input\"] = (new_dependency_name, e[\"input\"][1])\n",
    "        \n",
    "        e[\"output\"] = (new_db_name, e[\"output\"][1])\n",
    "\n",
    "        if e[\"type\"] == \"production\":\n",
    "            e[\"output\"] = e[\"input\"]\n",
    "data = {(new_db_name, k[1]): v for k, v in data.items()}\n",
    "\n",
    "# write it back to project\n",
    "bw2data.Database(new_db_name).write(data)"
   ]
  },
  {
   "cell_type": "markdown",
   "metadata": {},
   "source": [
    "Now do this in a loop for all background databases"
   ]
  },
  {
   "cell_type": "code",
   "execution_count": null,
   "metadata": {},
   "outputs": [],
   "source": [
    "# relink foreground database to new background database\n",
    "\n",
    "old_db_name = \"co2_kva\"\n",
    "\n",
    "# current background database\n",
    "old_dependency_name = \"ecoinvent-3.10.1-cutoff\""
   ]
  },
  {
   "cell_type": "code",
   "execution_count": null,
   "metadata": {},
   "outputs": [],
   "source": [
    "# new background database to link to\n",
    "new_dependency_name_list = dbs[5:] \n",
    "new_dependency_name_list\n",
    "\n",
    "new_dependency_name_list = [x for x in bd.databases if 'SSP2' in x]\n",
    "new_dependency_name_list"
   ]
  },
  {
   "cell_type": "code",
   "execution_count": null,
   "metadata": {},
   "outputs": [],
   "source": [
    "for new_dependency_name in new_dependency_name_list:\n",
    "    # new foreground database name\n",
    "    new_db_name = f\"{old_db_name}_{new_dependency_name}\"\n",
    "    if new_db_name in bd.databases:\n",
    "        del bd.databases['new_db_name']\n",
    "\n",
    "    # load database object\n",
    "    db = bd.Database(old_db_name)\n",
    "\n",
    "    # turn it into a dictionary\n",
    "    data = db.load()\n",
    "        \n",
    "    for i, ds in data.items():\n",
    "        ds[\"database\"] = new_db_name\n",
    "        for e in ds[\"exchanges\"]:\n",
    "            #print(e)\n",
    "            if e.get(\"input\")[0] == old_dependency_name:\n",
    "                e[\"input\"] = (new_dependency_name, e[\"input\"][1])\n",
    "            e[\"output\"] = (new_db_name, e[\"output\"][1])\n",
    "            if e[\"type\"] == \"production\":\n",
    "                e[\"output\"] = e[\"input\"]\n",
    "    data = {(new_db_name, k[1]): v for k, v in data.items()}\n",
    "\n",
    "    # write it back to project\n",
    "    bd.Database(new_db_name).write(data)\n",
    "    print(f\"Created database {new_db_name}\")"
   ]
  },
  {
   "cell_type": "code",
   "execution_count": null,
   "metadata": {},
   "outputs": [],
   "source": [
    "list(bd.databases)"
   ]
  },
  {
   "cell_type": "code",
   "execution_count": null,
   "metadata": {},
   "outputs": [],
   "source": [
    "old_db_name = 'lci_ags'\n",
    "\n",
    "# current databases used\n",
    "old_dependency_name_ecoinvent = \"ecoinvent-3.10.1-cutoff\"\n",
    "old_dependency_name_co2 = \"co2_kva\"\n"
   ]
  },
  {
   "cell_type": "code",
   "execution_count": null,
   "metadata": {},
   "outputs": [],
   "source": [
    "# new background databases to link to\n",
    "\n",
    "new_dependency_name_ecoinvent = [x for x in bd.databases if 'SSP2' in x and 'co2' not in x]\n",
    "new_dependency_name_co2 = [x for x in bd.databases if 'SSP2' in x and 'co2' in x]\n",
    "\n"
   ]
  },
  {
   "cell_type": "code",
   "execution_count": null,
   "metadata": {},
   "outputs": [],
   "source": [
    "# new foreground database name\n",
    "new_db_name = f\"{old_db_name} {new_dependency_name}\"\n",
    "\n",
    "# load database object\n",
    "db = bw2data.Database(old_db_name)\n",
    "\n",
    "# turn it into a dictionary\n",
    "data = db.load()\n",
    "\n",
    "for i, ds in data.items():\n",
    "\n",
    "    ds[\"database\"] = new_db_name\n",
    "    for e in ds[\"exchanges\"]:\n",
    "        #print(e)\n",
    "        if e.get(\"input\")[0] == old_dependency_name:\n",
    "            e[\"input\"] = (new_dependency_name, e[\"input\"][1])\n",
    "        \n",
    "        e[\"output\"] = (new_db_name, e[\"output\"][1])\n",
    "\n",
    "        if e[\"type\"] == \"production\":\n",
    "            e[\"output\"] = e[\"input\"]\n",
    "data = {(new_db_name, k[1]): v for k, v in data.items()}\n",
    "\n",
    "# write it back to project\n",
    "bw2data.Database(new_db_name).write(data)"
   ]
  },
  {
   "cell_type": "code",
   "execution_count": null,
   "metadata": {},
   "outputs": [],
   "source": []
  },
  {
   "cell_type": "markdown",
   "metadata": {},
   "source": [
    "# General calculations: well designs and derived material/energy consumption, rotary drilling vs. PPGD time, lifetime electricity production"
   ]
  },
  {
   "cell_type": "markdown",
   "metadata": {},
   "source": [
    "##### Plant variables"
   ]
  },
  {
   "cell_type": "code",
   "execution_count": null,
   "metadata": {},
   "outputs": [],
   "source": [
    "#Plant capacity: \n",
    "#Provided by ETH SP2. Declining capacity over the years is considered in the model, this is a steady state result\n",
    "plant_net_capacity_electrical = 1.89 #MWe\n",
    "plant_net_capacity_thermal = 2.8 #MWth\n",
    "\n",
    "\n",
    "#Plant lifetime:\n",
    "plant_lifetime_economic = 30 #years\n",
    "plant_lifetime_extended = 50 #years\n",
    "plant_lifetime_long = 100 #years\n",
    "\n",
    "#Plant capacity factor:\n",
    "plant_capacity_factor = 0.9\n",
    "\n",
    "#hours per year\n",
    "hpa = 8760 #h/a\n",
    "\n",
    "#Lifetime electricity production in kWh:\n",
    "life_elprod_economic = (plant_net_capacity_electrical * 1000) * plant_capacity_factor * hpa * plant_lifetime_economic #kWh\n",
    "life_elprod_extended = (plant_net_capacity_electrical * 1000) * plant_capacity_factor * hpa * plant_lifetime_extended\n",
    "life_elprod_long = (plant_net_capacity_electrical * 1000) * plant_capacity_factor * hpa * plant_lifetime_long\n",
    "\n",
    "print(life_elprod_economic, life_elprod_extended, life_elprod_long)\n",
    "\n",
    "\n"
   ]
  },
  {
   "cell_type": "markdown",
   "metadata": {},
   "source": [
    "#### Drilling"
   ]
  },
  {
   "cell_type": "code",
   "execution_count": null,
   "metadata": {},
   "outputs": [],
   "source": [
    "#well designs\n",
    "\n",
    "km6 = {'S1': 250,\n",
    "       'S2': 1750,\n",
    "       'S3': 2000,\n",
    "       'S4': 2000,\n",
    "       'S_hor': 6*7000}\n",
    "\n",
    "km6\n",
    "\n",
    "\n",
    "\n"
   ]
  },
  {
   "cell_type": "code",
   "execution_count": null,
   "metadata": {},
   "outputs": [],
   "source": []
  },
  {
   "cell_type": "code",
   "execution_count": null,
   "metadata": {},
   "outputs": [],
   "source": []
  },
  {
   "cell_type": "markdown",
   "metadata": {},
   "source": [
    "# Introduce variability aspects\n",
    "\n",
    " - Well depth: 4.5 km, 6 km (default), 8 km => implications on well construction (energy use vertical, casing material use (steel, cement, water))\n",
    "\n",
    " - Rotary drilling => implications on well construction (energy use, vertical / horizontal)"
   ]
  },
  {
   "cell_type": "code",
   "execution_count": null,
   "metadata": {},
   "outputs": [],
   "source": []
  },
  {
   "cell_type": "code",
   "execution_count": null,
   "metadata": {},
   "outputs": [],
   "source": []
  },
  {
   "cell_type": "markdown",
   "metadata": {},
   "source": [
    "# Introduce sensitivity aspects\n",
    "\n",
    " - Lifetime: 30a, 50a (default), 100a => changes the lifetime electricity output and requires replacement of surface plant components\n",
    " - Electricity origin: \n",
    "   - for drilling\n",
    "   - for CO2 chain\n",
    "   - hydro, run-of-river (minimum) // open ground PV // wind turbine // CH electricity mix"
   ]
  },
  {
   "cell_type": "code",
   "execution_count": null,
   "metadata": {},
   "outputs": [],
   "source": []
  },
  {
   "cell_type": "code",
   "execution_count": null,
   "metadata": {},
   "outputs": [],
   "source": []
  },
  {
   "cell_type": "code",
   "execution_count": null,
   "metadata": {},
   "outputs": [],
   "source": []
  },
  {
   "cell_type": "code",
   "execution_count": null,
   "metadata": {},
   "outputs": [],
   "source": []
  },
  {
   "cell_type": "code",
   "execution_count": null,
   "metadata": {},
   "outputs": [],
   "source": [
    "CONTRIBUTION_MAPPING_ELECTRICITY = {\n",
    "\n",
    "    # Electricity\n",
    "    \"electricity production, hydro, reservoir, alpine region\":\"Electricity\", \n",
    "    \"electricity production, hydro, reservoir, non–alpine region\":\"Electricity\", \n",
    "    \"electricity production, hydro, reservoir, tropical region\":\"Electricity\", \n",
    "    \"market group for electricity, medium voltage\":\"Electricity\",   \n",
    "    'market for electricity, low voltage':\"Electricity\",    \n",
    "    \"electricity production, photovoltaic, 3kWp slanted–roof installation, multi–Si, panel, mounted\": \"Electricity\", \n",
    "    \"570 kWp open ground installation, multi–Si, on open ground\": \"Electricity\", \n",
    "    \n",
    "    \"market for photovoltaic slanted–roof installation, 3kWp, multi–Si, panel, mounted, on roof\": \"Electricity\", \n",
    "    \"electricity production, wind, 1–3MW turbine, onshore\":\"Electricity\", \n",
    "    \"electricity production, natural gas, combined cycle power plant\":\"Electricity\", \n",
    "    \"market group for electricity, high voltage\": \"Electricity\",\n",
    "    'market group for electricity, low voltage': \"Electricity\",\n",
    "    'electricity production, hydro, run–of–river':\"Electricity\", \n",
    "    'electricity production, wind, 1–3MW turbine, offshore':\"Electricity\", \n",
    "    'electricity production, nuclear, pressure water reactor':\"Electricity\", \n",
    "     \"market group for electricity, high voltage\": \"Electricity\",\n",
    "    \"market for electricity, medium voltage\":\"Electricity\",  \n",
    "}"
   ]
  },
  {
   "cell_type": "code",
   "execution_count": null,
   "metadata": {},
   "outputs": [],
   "source": [
    "def group_exchange_scores(lst):\n",
    "    # We will store results in a dict, with keys for group label and values of LCIA score.\n",
    "    grouped_results = defaultdict(int)\n",
    "\n",
    "    for exc, score in lst[1:]:\n",
    "        grouped_results[CONTRIBUTION_MAPPING_SYSTEM[exc.input['name']]] += score\n",
    "    return grouped_results"
   ]
  },
  {
   "cell_type": "code",
   "execution_count": null,
   "metadata": {},
   "outputs": [],
   "source": [
    "# This part of the script is adopted from Antonini and Treyer et al. (2020)\n",
    "result_array = [[[] for _ in activities] for _ in MY_METHODS]\n",
    "\n",
    "lca = bw.LCA({activities[0]: 1, activities[-1]: 1}, method=MY_METHODS[0])\n",
    "lca.lci()\n",
    "lca.lcia()\n",
    "\n",
    "for i, method in enumerate(pyprind.prog_bar(MY_METHODS)):\n",
    "    #print(method)\n",
    "    lca.switch_method(method)\n",
    "    for j, activity in enumerate(activities):\n",
    "        #print(activity['name'])\n",
    "        lca.redo_lcia({activity: 1})\n",
    "        # Add total to check afterwards that all exchanges add up to total\n",
    "        result_array[i][j].append((\"total\", lca.score))\n",
    "        for exc in activity.exchanges():\n",
    "            if exc['type'] == 'technosphere':\n",
    "                lca.redo_lcia({exc.input: exc['amount']})\n",
    "                result_array[i][j].append((exc, lca.score))\n",
    "            elif exc['type'] == 'biosphere':\n",
    "                # Need to multiple the amount times its CF\n",
    "                cf = lca.characterization_matrix[lca.biosphere_dict[exc.input], :].sum()\n",
    "                result_array[i][j].append((exc, cf * exc['amount']))\n",
    "\n",
    "for method in result_array:\n",
    "    for activity in method:\n",
    "        if not np.allclose(activity[0][1], sum([o[1] for o in activity[1:]])):\n",
    "            print(\"Mismatch\")\n",
    "            break\n",
    "\n",
    "grouped_array = [[group_exchange_scores(j) for j in i] for i in result_array]"
   ]
  },
  {
   "cell_type": "code",
   "execution_count": null,
   "metadata": {},
   "outputs": [],
   "source": [
    "df_total = pd.DataFrame({})\n",
    "df_act = pd.DataFrame({})\n",
    "\n",
    "for j, mt in enumerate(MY_METHODS):\n",
    "    df_add_act = pd.DataFrame({})\n",
    "    for i, act in enumerate(activities):\n",
    "        data_0 = dict(grouped_array[j][i])\n",
    "        df_add = pd.DataFrame.from_dict(data_0, orient='index')\n",
    "        col_name = LIST_ACTIVITIES[i]\n",
    "        df_add.rename(columns = {\"climate change total\":act['name']}, inplace = True)\n",
    "        df_add.rename(columns = {0:act['name']}, inplace = True)\n",
    "        df_add.index.names = ['contributor']\n",
    "\n",
    "        df_add['category'] = str(MY_METHODS[j][1])  \n",
    "        df_add['db_name'] = DB_NAME_INIT\n",
    "        \n",
    "        df_add = df_add.reset_index().set_index(['category','contributor', 'db_name'])\n",
    "        df_add_act = pd.concat([df_add_act, df_add], axis=1)\n",
    "    \n",
    "    df_total = pd.concat([df_total, df_add_act], axis=0)\n",
    "df_total"
   ]
  },
  {
   "cell_type": "code",
   "execution_count": null,
   "metadata": {},
   "outputs": [],
   "source": [
    "df_total_2 = df_total.reindex(sorted(df_total.columns), \n",
    "                                axis=1)\n",
    "df_total_2.columns = df_total_2.columns.str.replace(\"hydrogen production,\"\n",
    "                    ,\"\").str.replace(\"gaseous, 25 bar, from electrolysis,\",\n",
    "                                        \"\").str.replace(\", global cf\",\n",
    "                                        \"  (CF=\").str.replace(\"]\",\n",
    "                                        \")\").str.replace(\"[\",\n",
    "                                        \"\").str.replace(\", 25 bar, wc\",\n",
    "                                        \"\").str.replace(\"of natural gas\",\n",
    "                                        \"\").str.replace(\"MDEA, 98% eff.\", \n",
    "                                        \"with CCS\", regex=True).str.replace(\", with CCS\",\n",
    "                                        \"\").str.replace(\"(\",\n",
    "                                        \"\\n (\").str.replace(\"res.\",\n",
    "                                        \"Residential\").str.replace(\"off-\",\n",
    "                                        \"off\").str.replace(\"on-\",\n",
    "                                        \"on\")\n",
    "df_total_2 = df_total_2.reindex(sorted(df_total_2.columns), \n",
    "                            axis=1)\n",
    "df_total_2.columns = df_total_2.columns.str.title()\n",
    "df_total_2.columns = df_total_2.columns.str.replace(\"Pv\", \"PV\").str.replace(\"Ccs\", \"CCS\").str.replace(\", 25 Bar\",\n",
    "                                         \"\")\n",
    "df_total_2"
   ]
  },
  {
   "cell_type": "code",
   "execution_count": null,
   "metadata": {},
   "outputs": [],
   "source": [
    "colors = ['#a50026','#d73027','#f46d43','#fdae61','#fee090','#ffffbf','#e0f3f8','#abd9e9','#74add1','#4575b4','#313695', \"white\", 'black']\n",
    "\n",
    "color_dict = {\n",
    "             'CO$_{2}$ transport & storage':colors[0],\n",
    "             'CO$_{2}$ emissions':colors[1],\n",
    "             'Water supply':colors[2],\n",
    "             'Cooling water':colors[3],\n",
    "             'Electricity':colors[4],    \n",
    "             'Fuel burning':colors[5],\n",
    "             'Fuel supply chain':colors[6],\n",
    "             'Oxygen':colors[7],\n",
    "             'Plant infrastructure':colors[8],\n",
    "    'Storage supply chain': colors[9],\n",
    "    \"Hydrogen leakage\":colors[10],\n",
    "    \"PEM construction\": colors[11],\n",
    "    \"Water (desalination)\": colors[12],\n",
    "             }\n",
    "\n",
    "hex_dict = {\n",
    "             'CO$_{2}$ transport & storage':\"/\",\n",
    "             'CO$_{2}$ emissions':\"\",\n",
    "             'Water supply':\"\",\n",
    "             'Cooling water':\"\",\n",
    "             'Electricity':\"\\\\\",  \n",
    "             'Fuel burning':\"/\",\n",
    "             'Fuel supply chain':\"/\",\n",
    "             'Oxygen':\"\",\n",
    "             'Plant infrastructure':\"/\",\n",
    "    'Storage supply chain': \"/\",\n",
    "    \"Hydrogen leakage\": \"/\",\n",
    "    \"PEM construction\": \"/\",\n",
    "    \"Water (desalination)\": '',\n",
    "             }"
   ]
  },
  {
   "cell_type": "markdown",
   "metadata": {},
   "source": [
    "# Contribution analyses of env impact categories"
   ]
  },
  {
   "cell_type": "code",
   "execution_count": null,
   "metadata": {},
   "outputs": [],
   "source": [
    "rc = {\n",
    "      'axes.facecolor':'white',\n",
    "      'axes.grid' : False,\n",
    "      'grid.color': '0.3',\n",
    "      'font.family':'Arial',\n",
    "      'font.size' : 80,\n",
    "      'xtick.bottom': True,\n",
    "     'xtick.top': True,\n",
    "     'ytick.left': True,\n",
    "     'ytick.right': True,\n",
    "        'patch.facecolor': COLOR_CHOSEN,\n",
    "        'patch.linewidth': 4,\n",
    "      'patch.force_edgecolor': True,\n",
    "    'axes.linewidth':10\n",
    "     }\n",
    "\n",
    "plt.rcParams.update(rc) \n",
    "plt.rcParams['axes.axisbelow'] = True\n",
    "plt.rcParams[\"axes.edgecolor\"] = \"black\"\n",
    "\n",
    "font =108\n",
    "\n",
    "list_unique_configs = [\n",
    "                        \"PEM – ground-mounted\\nsolar PV\", \"PEM – rooftop\\nsolar PV\",\n",
    "                       \"PEM – offshore wind\\n(desalination)\", \n",
    "                       \"PEM – onshore wind\", \n",
    "                    \"Autothermal\\nreforming\", \"Steam\\nmethane\\nreforming\",]\n",
    "\n",
    "for cat in MY_METHODS:\n",
    "    print(cat)\n",
    "    df_select = df_total_2.loc[df_total.index.get_level_values('category') == cat[1], :]\n",
    "\n",
    "    ax = df_select.T.plot(kind='bar', fontsize = font, figsize=(100, 40), width = 0.50,\n",
    "                   stacked = True, zorder=9,color=[color_dict[r] for r in df_select.index.get_level_values(1)])\n",
    "    ax.patch.set_facecolor(\"#F8F8F8\")\n",
    "\n",
    "    max_y= max(df_select.sum(axis=0))*1.25\n",
    "    min_y= min(df_select.min(axis=0))*1.3\n",
    "\n",
    "    ax.set_ylim(min_y,max_y)  \n",
    "\n",
    "    bars = ax.patches\n",
    "    patterns = [hex_dict[z] for z in df_select.index.get_level_values(1)]  # set hatch patterns in the correct order\n",
    "    hatches = []  # list for hatches in the order of the bars\n",
    "\n",
    "    for h in patterns:  # loop over patterns to create bar-ordered hatches\n",
    "        for i in range(int(len(bars) / len(patterns))):\n",
    "            hatches.append(h)\n",
    "\n",
    "    for bar, hatch in zip(bars, hatches):  # loop over bars and hatches to set hatches in correct order\n",
    "        bar.set_hatch(hatch)\n",
    "\n",
    "    coordinates = [2.5, 5.5, 8.5,11.5, 13.5, 15.5]\n",
    "    \n",
    "    if \"climate change\" in str(cat):\n",
    "        ax.legend( bbox_to_anchor=(0.97,-0.58),borderpad=0.5, labelspacing=0,\n",
    "                              shadow=0, facecolor=COLOR_CHOSEN, fontsize=font-10, framealpha=1, ncol=4, frameon=False,  \n",
    "                  labels= df_select.index.get_level_values(1))\n",
    "    else:\n",
    "        ax.legend( bbox_to_anchor=(0.97,1.20),borderpad=0.5, labelspacing=0,\n",
    "                              shadow=0, facecolor=COLOR_CHOSEN, fontsize=font-10, framealpha=1, ncol=4, frameon=False,  \n",
    "                  labels= df_select.index.get_level_values(1))\n",
    "\n",
    "    for i, res in enumerate(list(df_select.sum())):\n",
    "        if res>50:\n",
    "            ax.text((i-0.15),res*1.02,int(res), fontsize=font-7, zorder=10, weight='bold', rotation = 0, color=COLOR_CHOSEN)\n",
    "        elif res>10:\n",
    "            ax.text((i-0.25),res*1.02,round(res,1), fontsize=font-7, zorder=10, weight='bold', rotation = 0, color=COLOR_CHOSEN)\n",
    "        elif res>1:\n",
    "            ax.text((i-0.20),res*1.02,round(res,1), fontsize=font-7, zorder=10, weight='bold', rotation = 0, color=COLOR_CHOSEN)\n",
    "        elif res>0.001:\n",
    "            ax.text((i-0.3),res*1.02,round(res,3), fontsize=font-7, zorder=10, weight='bold', rotation = 0, color=COLOR_CHOSEN)\n",
    "        else:\n",
    "            pass\n",
    "    \n",
    "    ax.xaxis.grid(False, which = 'both')\n",
    "    ax.yaxis.grid(True, which = 'both', color=COLOR_CHOSEN)\n",
    "\n",
    "    text = list_unique_configs\n",
    "    correction_factor = 2.3\n",
    "    ax.set_xlabel(\"\", fontsize = font)    \n",
    "\n",
    "    for count, l in enumerate(coordinates):\n",
    "        if count != (len(coordinates)-1):\n",
    "            ax.vlines(x=l, ymin=min_y, ymax=max_y, colors='black', lw=9, label='vline_single')\n",
    "        point_earlier = count-1\n",
    "        \n",
    "        if count >3:\n",
    "            text_point = 0.5+ (coordinates[point_earlier] + coordinates[count] - correction_factor - 0.1) / 2    \n",
    "        elif count > 1:\n",
    "            text_point = (coordinates[point_earlier] + coordinates[count] - correction_factor -0.2) / 2\n",
    "        elif count == 1:\n",
    "            text_point = (coordinates[point_earlier] + coordinates[count] - correction_factor) / 2\n",
    "        elif count == 0:\n",
    "            text_point = (0 + coordinates[count] - correction_factor) -0.5   \n",
    "        else:\n",
    "            text_point = (0 + coordinates[count] - correction_factor) -0.1\n",
    "        ax.text(text_point+0.04,max_y*0.88,text[count], fontsize=font-30, zorder=10, weight='bold', color=COLOR_CHOSEN)\n",
    "\n",
    "    ax.tick_params(axis='x', which='major', labelsize=font-3, pad =40, rotation=90)\n",
    "    ax.tick_params(axis='y', which='minor', labelsize=font-3, rotation=0)\n",
    "        \n",
    "    if \"Water consumption\" in str(cat):\n",
    "        ax.set_ylabel(\"Impacts on {} [{}/kg H$_2$]\".format(cat[3].replace(\": \",\" \"),DICT_UNITS[cat]), size= font-2, color=COLOR_CHOSEN)\n",
    "    elif \"climate change\" in str(cat):\n",
    "        ax.set_ylabel(\"Impacts on {} [{}/kg H$_2$]\".format(cat[1].replace(\": \",\" \"),DICT_UNITS[cat]), size= font-2, color=COLOR_CHOSEN) \n",
    "        ax.axhline(y=4.4, xmin=0, xmax=25, label='Green hydrogen', color='green', lw=5)\n",
    "    else:\n",
    "        ax.set_ylabel(\"Impacts on {} [{}/kg H$_2$]\".format(cat[1].replace(\": \",\" \"),DICT_UNITS[cat]), size= font-2, color=COLOR_CHOSEN)\n",
    "        \n",
    "    ##################################################################\n",
    "    ax3= ax.twinx()\n",
    "\n",
    "    ax3.set_ylim(min_y/MJ_KG_H2, max_y/MJ_KG_H2)\n",
    "        \n",
    "    if \"Water consumption\" in str(cat):\n",
    "        ax3.set_ylabel(\"[{}/MJ H$_2$]\".format(DICT_UNITS[cat]), size= font-2, color=COLOR_CHOSEN)\n",
    "    elif \"climate change\" in str(cat):\n",
    "        ax3.set_ylabel(\"[{}/MJ H$_2$]\".format(DICT_UNITS[cat]), size= font-2, color=COLOR_CHOSEN) \n",
    "        ax3.axhline(y=4.4, xmin=0, xmax=25, label='Green hydrogen', color='darkgreen', lw=5)\n",
    "    else:\n",
    "        ax3.set_ylabel(\"[{}/MJ H$_2$]\".format(DICT_UNITS[cat]), size= font-2, color=COLOR_CHOSEN)\n",
    "    ax3.grid(None)\n",
    "    ax3.grid(False)\n",
    "    ax3.tick_params(axis='x', which='major', labelsize=font-3, pad =40, rotation=90)\n",
    "    ax3.tick_params(axis='y', which='minor', labelsize=font-3, rotation=0)\n",
    "    ax3.yaxis.set_tick_params(labelsize=font-3)\n",
    "    ##################################################################\n",
    "        \n",
    "    ax.set_xlabel(\"\", fontsize = font, labelpad=50)  \n",
    "    \n",
    "    ax.axhline(y=0, xmin=0, xmax=25, lw=3, linestyle = \"--\", color=COLOR_CHOSEN)\n",
    "\n",
    "    name = \"{}\".format(cat[1].replace(\"/\",\"_\").replace(\":\",\"\"))\n",
    "    \n",
    "    ax.tick_params(axis='x', colors = COLOR_CHOSEN)\n",
    "    ax.tick_params(axis='y', colors = COLOR_CHOSEN)\n",
    "    \n",
    "    plt.rc('axes',edgecolor=COLOR_CHOSEN)\n",
    "    \n",
    "    to_disk = \"figs/{}.png\".format(cat[1].replace(\"/\",\"_\").replace(\": \",\"_\").replace(\" \",\"_\").replace(\",\",\"\"))\n",
    "    plt.savefig(to_disk, dpi = 50, bbox_inches = 'tight')"
   ]
  },
  {
   "cell_type": "markdown",
   "metadata": {},
   "source": [
    "# Spider graphs"
   ]
  },
  {
   "cell_type": "code",
   "execution_count": null,
   "metadata": {},
   "outputs": [],
   "source": [
    "total_df_spider = df_total_2.groupby(level=[0]).sum()\n",
    "total_df_spider"
   ]
  },
  {
   "cell_type": "code",
   "execution_count": null,
   "metadata": {},
   "outputs": [],
   "source": [
    "total_df_spider = pd.concat([ total_df_spider.iloc[:, 1:2], total_df_spider.iloc[:, 4:5],\n",
    "            total_df_spider.iloc[:, 7:8], total_df_spider.iloc[:, 10:11],\n",
    "            total_df_spider.iloc[:, 12:]\n",
    "          ], axis=1)\n",
    "total_df_spider"
   ]
  },
  {
   "cell_type": "code",
   "execution_count": null,
   "metadata": {},
   "outputs": [],
   "source": [
    "# Transpose the DataFrame\n",
    "total_df_spider = total_df_spider.T\n",
    "\n",
    "# Rename columns using a dictionary\n",
    "column_renames = {\n",
    "    'Land transformation': \"LD\", \n",
    "    'acidification': \"AC\",  \n",
    "    'climate change': \"CC\", \n",
    "    'ecotoxicity: freshwater': \"ET$_{F}$\",  \n",
    "    'ecotoxicity: freshwater, inorganics': \"ET$_{FI}$\",\n",
    "    'ecotoxicity: freshwater, organics': \"ET$_{FO}$\",\n",
    "    'energy resources: non-renewable': \"ER\",\n",
    "    'eutrophication: freshwater': \"EF$_{F}$\",\n",
    "    'eutrophication: marine': \"EF$_{M}$\",\n",
    "    'eutrophication: terrestrial': \"EF$_{T}$\", \n",
    "    'human toxicity: carcinogenic': \"HT$_{C}$\", \n",
    "    'human toxicity: carcinogenic, inorganics': \"HT$_{CI}$\", \n",
    "    'human toxicity: carcinogenic, organics': \"HT$_{CO}$\", \n",
    "    'human toxicity: non-carcinogenic': \"HT$_{NC}$\", \n",
    "    'human toxicity: non-carcinogenic, inorganics': \"HT$_{NCI}$\", \n",
    "    'human toxicity: non-carcinogenic, organics': \"HT$_{NCO}$\", \n",
    "    'ionising radiation: human health': \"IR\", \n",
    "    'material resources: metals/minerals': \"MM\",\n",
    "    'ozone depletion': \"OD\",\n",
    "    'particulate matter formation': \"PM\",\n",
    "    'photochemical oxidant formation: human health': \"PF\",\n",
    "    'water use':\"WU\",\n",
    "    'land use': \"LU\",\n",
    "    \"1.1 (20180117)\":\"WC\"\n",
    "}\n",
    "\n",
    "total_df_spider.rename(columns=column_renames, inplace=True)\n",
    "\n",
    "# Remove \" consumption\" from column names\n",
    "total_df_spider.columns = total_df_spider.columns.str.replace(\" consumption\", \"\")\n",
    "\n",
    "# Transpose back the DataFrame\n",
    "total_df_spider = total_df_spider.T\n",
    "max_categories = np.array(total_df_spider.max(axis=1))\n",
    "total_df_spider_select = total_df_spider\n",
    "total_df_spider_select['maximum'] = max_categories\n",
    "total_df_spider_select[total_df_spider_select<0] = 0\n",
    "total_df_spider_select"
   ]
  },
  {
   "cell_type": "code",
   "execution_count": null,
   "metadata": {},
   "outputs": [],
   "source": [
    "df_normalized = total_df_spider_select.loc[:,].div(total_df_spider_select[\"maximum\"], axis=0)\n",
    "total_df_spider_select = df_normalized.drop(columns=['maximum'])\n",
    "df_values = total_df_spider_select.T.to_numpy()\n",
    "df_values"
   ]
  },
  {
   "cell_type": "code",
   "execution_count": null,
   "metadata": {},
   "outputs": [],
   "source": [
    "rc = {\n",
    "      'axes.facecolor':'white',\n",
    "      'axes.grid' : True,\n",
    "      'grid.color': '.8',\n",
    "      'font.family':'Arial',\n",
    "      'font.size' : 90,\n",
    "      'xtick.bottom': True,\n",
    "     'xtick.top': True,\n",
    "     'ytick.left': True,\n",
    "     'ytick.right': True,\n",
    "        'patch.facecolor': COLOR_CHOSEN,\n",
    "        'patch.linewidth': 10,\n",
    "      'patch.force_edgecolor': True,\n",
    "    'axes.linewidth':20\n",
    "     }\n",
    "\n",
    "plt.rcParams.update(rc) \n",
    "plt.rcParams['axes.axisbelow'] = True\n",
    "plt.rcParams['grid.color'] = '0.3'\n",
    "\n",
    "# Collect data\n",
    "array_info = df_values\n",
    "\n",
    "labels_2 = list(total_df_spider_select.T.columns)\n",
    "names = list(total_df_spider_select.columns)\n",
    "names = [n.replace(\"Steam Methane Reforming\", \"SMR\").replace(\"Auto-Thermal Reforming\", \"ATR\").replace(\"= \", \"=\").replace(\"25 Bar\",\"\").replace(\",\",\"\")  for n in names]\n",
    "list_configs = labels_2\n",
    "\n",
    "data = [labels_2,\n",
    "        ('', array_info)\n",
    "        ]\n",
    "\n",
    "colors = [\"darkgreen\",\"darkgreen\",\"darkgreen\",\"darkgreen\",\n",
    "          \"#5d5d5d\", \"darkblue\", \"#5d5d5d\", \"darkblue\",] \n",
    "\n",
    "type_radar = \"polygon\"\n",
    "\n",
    "N = len(data[0])\n",
    "theta = radar_factory(N, frame='polygon')\n",
    "tickss = ['0', '0.2', '0.4', '0.6', \"0.8\", '1']\n",
    "fig, axs = plt.subplots(2,4, figsize=(200*0.92,114*0.92), subplot_kw=dict(projection='radar'))\n",
    "general_font = 165\n",
    "\n",
    "# Results per config\n",
    "for i, cf in enumerate(names):\n",
    "    # Calculate the value of j based on the index\n",
    "    j = i // 4\n",
    "    \n",
    "    # Calculate the value of k based on the index and j\n",
    "    k = i - (4 * j)\n",
    "\n",
    "    data = [labels_2,\n",
    "        (names, [array_info[i]])\n",
    "        ]\n",
    "    N = len(data[0])\n",
    "    theta = radar_factory(N, frame='polygon')\n",
    "    \n",
    "    spoke_labels = data.pop(0)\n",
    "    title, case_data = data[0]\n",
    "\n",
    "    title = list_configs[i]#r\"$\\bf{\" + list_configs[i] + \"}$\" + \"\\n \\n\" + \"Reference configuration: {}\".format(names[i]) + \"\"\n",
    "    axs[j, k].text(0.81, 1.59, \"{}. {}\".format(chr(ord('`')+i+1),names[i]), fontsize=general_font-3, weight = 'bold', color = COLOR_CHOSEN)\n",
    "    axs[j, k].set_ylim(bottom=0)\n",
    "    \n",
    "    for d in case_data:\n",
    "        line = axs[j, k].plot(theta, d, linewidth = 8, color = colors[i])\n",
    "        axs[j, k].fill(theta, d,  alpha=0.3, color = colors[i]) #colors[i])\n",
    "\n",
    "    axs[j, k].set_varlabels(\"\")\n",
    "    axs[j, k].set_rgrids([0, 0.2, 0.4, 0.6, 0.8, 1], alpha=0.8, angle=15, labels=tickss, fontsize=general_font-5, color = COLOR_CHOSEN)\n",
    "    axs[j, k].grid(linewidth=2)\n",
    " \n",
    "    axs[j, k].set_frame_on(True)\n",
    "    pi = np.pi\n",
    "    for b in range(N):\n",
    "        angle_rad = b / float(N) * 2 * pi\n",
    "\n",
    "        if angle_rad == 0:\n",
    "            ha, distance_ax = \"center\", 1.05\n",
    "        elif 0 < angle_rad < pi:\n",
    "            ha, distance_ax = \"left\", 1.18\n",
    "        elif angle_rad == pi:\n",
    "            ha, distance_ax = \"center\", 1.05\n",
    "        else:\n",
    "            ha, distance_ax = \"right\", 1.22\n",
    "        axs[j, k].text(angle_rad, distance_ax, labels_2[b], size=general_font-15, horizontalalignment=ha, \n",
    "                       verticalalignment=\"center\", color = COLOR_CHOSEN)   \n",
    "plt.rc('xtick', labelsize=general_font, color = COLOR_CHOSEN) \n",
    "plt.rc('ytick', labelsize=general_font, color = COLOR_CHOSEN) \n",
    "fig.subplots_adjust(#top=0.27, bottom=0.15, \n",
    "                    wspace = 1.9, hspace=1.9 )\n",
    "plt.tight_layout()\n",
    "plt.savefig(\"figs/results_trade_offs_h2.png\", dpi = 60, bbox_inches = 'tight')"
   ]
  },
  {
   "cell_type": "markdown",
   "metadata": {},
   "source": [
    "# Climate impacts for other future scenarios"
   ]
  },
  {
   "cell_type": "code",
   "execution_count": null,
   "metadata": {},
   "outputs": [],
   "source": [
    "rc = {\n",
    "      'axes.facecolor':'white',\n",
    "      'axes.grid' : True,\n",
    "      'grid.color': '.8',\n",
    "      'font.family':'Arial',\n",
    "      'font.size' : 90,\n",
    "      'xtick.bottom': True,\n",
    "     'xtick.top': True,\n",
    "     'ytick.left': True,\n",
    "     'ytick.right': True,\n",
    "        'patch.facecolor': COLOR_CHOSEN,\n",
    "        'patch.linewidth': 10,\n",
    "      'patch.force_edgecolor': True,\n",
    "    'axes.linewidth':20\n",
    "     }\n",
    "\n",
    "plt.rcParams.update(rc) \n",
    "plt.rcParams['axes.axisbelow'] = True\n",
    "plt.rcParams['grid.color'] = '0.3'\n",
    "\n",
    "# Collect data\n",
    "array_info = df_values\n",
    "\n",
    "labels_2 = list(total_df_spider_select.T.columns)\n",
    "names = list(total_df_spider_select.columns)\n",
    "names = [n.replace(\"Steam Methane Reforming\", \"SMR\").replace(\"Auto-Thermal Reforming\", \"ATR\").replace(\"= \", \"=\").replace(\"25 Bar\",\"\").replace(\",\",\"\")  for n in names]\n",
    "list_configs = labels_2\n",
    "\n",
    "data = [labels_2,\n",
    "        ('', array_info)\n",
    "        ]\n",
    "\n",
    "colors = [\"darkgreen\",\"darkgreen\",\"darkgreen\",\"darkgreen\",\n",
    "          \"#5d5d5d\", \"darkblue\", \"#5d5d5d\", \"darkblue\",] \n",
    "\n",
    "type_radar = \"polygon\"\n",
    "\n",
    "N = len(data[0])\n",
    "theta = radar_factory(N, frame='polygon')\n",
    "tickss = ['0', '0.2', '0.4', '0.6', \"0.8\", '1']\n",
    "fig, axs = plt.subplots(2,4, figsize=(200*0.92,114*0.92), subplot_kw=dict(projection='radar'))\n",
    "general_font = 165\n",
    "\n",
    "# Results per config\n",
    "for i, cf in enumerate(names):\n",
    "    # Calculate the value of j based on the index\n",
    "    j = i // 4\n",
    "    \n",
    "    # Calculate the value of k based on the index and j\n",
    "    k = i - (4 * j)\n",
    "\n",
    "    data = [labels_2,\n",
    "        (names, [array_info[i]])\n",
    "        ]\n",
    "    N = len(data[0])\n",
    "    theta = radar_factory(N, frame='polygon')\n",
    "    \n",
    "    spoke_labels = data.pop(0)\n",
    "    title, case_data = data[0]\n",
    "\n",
    "    title = list_configs[i]#r\"$\\bf{\" + list_configs[i] + \"}$\" + \"\\n \\n\" + \"Reference configuration: {}\".format(names[i]) + \"\"\n",
    "    axs[j, k].text(0.81, 1.59, \"{}. {}\".format(chr(ord('`')+i+1),names[i]), fontsize=general_font-3, weight = 'bold', color = COLOR_CHOSEN)\n",
    "    axs[j, k].set_ylim(bottom=0)\n",
    "    \n",
    "    for d in case_data:\n",
    "        line = axs[j, k].plot(theta, d, linewidth = 8, color = colors[i])\n",
    "        axs[j, k].fill(theta, d,  alpha=0.3, color = colors[i]) #colors[i])\n",
    "\n",
    "    axs[j, k].set_varlabels(\"\")\n",
    "    axs[j, k].set_rgrids([0, 0.2, 0.4, 0.6, 0.8, 1], alpha=0.8, angle=15, labels=tickss, fontsize=general_font-5, color = COLOR_CHOSEN)\n",
    "    axs[j, k].grid(linewidth=2)\n",
    " \n",
    "    axs[j, k].set_frame_on(True)\n",
    "    pi = np.pi\n",
    "    for b in range(N):\n",
    "        angle_rad = b / float(N) * 2 * pi\n",
    "\n",
    "        if angle_rad == 0:\n",
    "            ha, distance_ax = \"center\", 1.05\n",
    "        elif 0 < angle_rad < pi:\n",
    "            ha, distance_ax = \"left\", 1.18\n",
    "        elif angle_rad == pi:\n",
    "            ha, distance_ax = \"center\", 1.05\n",
    "        else:\n",
    "            ha, distance_ax = \"right\", 1.22\n",
    "        axs[j, k].text(angle_rad, distance_ax, labels_2[b], size=general_font-15, horizontalalignment=ha, \n",
    "                       verticalalignment=\"center\", color = COLOR_CHOSEN)   \n",
    "plt.rc('xtick', labelsize=general_font, color = COLOR_CHOSEN) \n",
    "plt.rc('ytick', labelsize=general_font, color = COLOR_CHOSEN) \n",
    "fig.subplots_adjust(#top=0.27, bottom=0.15, \n",
    "                    wspace = 1.9, hspace=1.9 )\n",
    "plt.tight_layout()\n",
    "plt.savefig(\"figs/results_trade_offs_h2.png\", dpi = 60, bbox_inches = 'tight')"
   ]
  },
  {
   "cell_type": "code",
   "execution_count": null,
   "metadata": {},
   "outputs": [],
   "source": []
  },
  {
   "cell_type": "code",
   "execution_count": null,
   "metadata": {},
   "outputs": [],
   "source": []
  }
 ],
 "metadata": {
  "kernelspec": {
   "display_name": "ags",
   "language": "python",
   "name": "python3"
  },
  "language_info": {
   "codemirror_mode": {
    "name": "ipython",
    "version": 3
   },
   "file_extension": ".py",
   "mimetype": "text/x-python",
   "name": "python",
   "nbconvert_exporter": "python",
   "pygments_lexer": "ipython3",
   "version": "3.11.11"
  }
 },
 "nbformat": 4,
 "nbformat_minor": 2
}
